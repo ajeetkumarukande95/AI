{
  "nbformat": 4,
  "nbformat_minor": 0,
  "metadata": {
    "colab": {
      "provenance": []
    },
    "kernelspec": {
      "name": "python3",
      "display_name": "Python 3"
    },
    "language_info": {
      "name": "python"
    }
  },
  "cells": [
    {
      "cell_type": "code",
      "source": [
        "# Features of python Languges\n",
        "# easy to learn\n",
        "# easy to read and understand and syntax is similar like english\n",
        "# vast library support\n",
        "# high level language\n",
        "# interpreted langauge\n",
        "# easy to portable"
      ],
      "metadata": {
        "id": "MnNtoKQ7fbAI"
      },
      "execution_count": null,
      "outputs": []
    },
    {
      "cell_type": "code",
      "source": [
        "# Vriables in python languages"
      ],
      "metadata": {
        "id": "r0oTTpd2fbCf"
      },
      "execution_count": null,
      "outputs": []
    },
    {
      "cell_type": "code",
      "source": [
        "# here, many students/person joined the class, how do i indentify the person by its name\n",
        "# likewise in python we can indentify the values, entity by using variable called indentifiers\n",
        "# whatever we are doing in python, we goint to define variable to indentify its value"
      ],
      "metadata": {
        "id": "o5mlFWXyfbFf"
      },
      "execution_count": null,
      "outputs": []
    },
    {
      "cell_type": "code",
      "source": [
        "# How to Run cell\n",
        "# shift+enter  ---> run current cell\n",
        "# ctrl+enter"
      ],
      "metadata": {
        "id": "2IIqG-gh3x6b"
      },
      "execution_count": null,
      "outputs": []
    },
    {
      "cell_type": "code",
      "source": [
        "name = \"Gukesh\"\n",
        "print(name)"
      ],
      "metadata": {
        "colab": {
          "base_uri": "https://localhost:8080/"
        },
        "id": "UDWxIS9yfbHu",
        "outputId": "cec2e31c-8125-4f4e-fd20-3956b51dae01"
      },
      "execution_count": null,
      "outputs": [
        {
          "output_type": "stream",
          "name": "stdout",
          "text": [
            "Gukesh\n"
          ]
        }
      ]
    },
    {
      "cell_type": "code",
      "source": [
        "NAME = \"Gukesh\"\n",
        "print(NAME)"
      ],
      "metadata": {
        "colab": {
          "base_uri": "https://localhost:8080/"
        },
        "id": "8fZ2GQIzfbLu",
        "outputId": "ab6511cd-d9b2-4947-b68b-a4ff9e2c4d08"
      },
      "execution_count": null,
      "outputs": [
        {
          "output_type": "stream",
          "name": "stdout",
          "text": [
            "Gukesh\n"
          ]
        }
      ]
    },
    {
      "cell_type": "code",
      "source": [
        "a = 10\n",
        "b = 20.50\n",
        "b = \"Nihal\"\n",
        "c = 'Suraj'\n"
      ],
      "metadata": {
        "id": "rTLKspcnfbN_"
      },
      "execution_count": null,
      "outputs": []
    },
    {
      "cell_type": "code",
      "source": [
        "def cube():\n",
        "  pass"
      ],
      "metadata": {
        "id": "oMpBkM1vwWvI"
      },
      "execution_count": null,
      "outputs": []
    },
    {
      "cell_type": "code",
      "source": [
        "class AI_class():\n",
        "  pass"
      ],
      "metadata": {
        "id": "sYOm0cpbwVfW"
      },
      "execution_count": null,
      "outputs": []
    },
    {
      "cell_type": "code",
      "source": [
        "# now, while defining name as variables in python there are several rule to define it\n",
        "# 1.Vaiable name must starts with alphabets(A-Z,a-z)\n",
        "# 2.variable name can contains alpha0numerical charaters(A-Z,a-z,0-9)\n",
        "# 3.variable name cannot starts with numbers\n",
        "# 4. variable name are case sensitive\n",
        "# 5.varible name cannot contains special characters(!@#$%^...) except underscore\n",
        "# 6.variable name cannot use the reserved keywords ..True,False,import,if, else,....\n",
        "# 7.do not use the in built functions name as varible name as print, help,sum, min, max,...\n"
      ],
      "metadata": {
        "id": "4sfr_betwViT"
      },
      "execution_count": null,
      "outputs": []
    },
    {
      "cell_type": "code",
      "source": [
        "# 1.Vaiable name must starts with alphabets(A-Z,a-z)"
      ],
      "metadata": {
        "id": "lU_eoqQMwTkw"
      },
      "execution_count": null,
      "outputs": []
    },
    {
      "cell_type": "code",
      "source": [
        "a = 10\n",
        "print(a)"
      ],
      "metadata": {
        "colab": {
          "base_uri": "https://localhost:8080/"
        },
        "id": "LZYp8Da40PCz",
        "outputId": "4fed0db8-8288-439c-bd4b-b4dffffddeba"
      },
      "execution_count": null,
      "outputs": [
        {
          "output_type": "stream",
          "name": "stdout",
          "text": [
            "10\n"
          ]
        }
      ]
    },
    {
      "cell_type": "code",
      "source": [
        "A = 20\n",
        "print(A)"
      ],
      "metadata": {
        "colab": {
          "base_uri": "https://localhost:8080/"
        },
        "id": "cizMnUeg0PFx",
        "outputId": "e347ec75-5dfa-4021-9067-233d46ee6c4d"
      },
      "execution_count": null,
      "outputs": [
        {
          "output_type": "stream",
          "name": "stdout",
          "text": [
            "20\n"
          ]
        }
      ]
    },
    {
      "cell_type": "code",
      "source": [
        "b = 30.50\n",
        "print(b)"
      ],
      "metadata": {
        "colab": {
          "base_uri": "https://localhost:8080/"
        },
        "id": "Fus5o2ub0OHw",
        "outputId": "932f7211-ce94-4c38-dd47-9093c0e25f52"
      },
      "execution_count": null,
      "outputs": [
        {
          "output_type": "stream",
          "name": "stdout",
          "text": [
            "30.5\n"
          ]
        }
      ]
    },
    {
      "cell_type": "code",
      "source": [
        "c = \"Gukesh\"\n",
        "d = 'Gukesh'\n",
        "print(c)\n",
        "print(d)"
      ],
      "metadata": {
        "colab": {
          "base_uri": "https://localhost:8080/"
        },
        "id": "XbojWsab0OKu",
        "outputId": "76bac8cd-0cf7-44c4-8cf1-ad008f7f2c0e"
      },
      "execution_count": null,
      "outputs": [
        {
          "output_type": "stream",
          "name": "stdout",
          "text": [
            "Gukesh\n",
            "Gukesh\n"
          ]
        }
      ]
    },
    {
      "cell_type": "code",
      "source": [
        "1a = 10\n",
        "print(1a)"
      ],
      "metadata": {
        "colab": {
          "base_uri": "https://localhost:8080/",
          "height": 106
        },
        "id": "956BmII7wTm2",
        "outputId": "ea7d4b67-60b8-45e2-c6de-33ea1b0c5d77"
      },
      "execution_count": null,
      "outputs": [
        {
          "output_type": "error",
          "ename": "SyntaxError",
          "evalue": "invalid decimal literal (<ipython-input-15-9b48d3b2ee55>, line 1)",
          "traceback": [
            "\u001b[0;36m  File \u001b[0;32m\"<ipython-input-15-9b48d3b2ee55>\"\u001b[0;36m, line \u001b[0;32m1\u001b[0m\n\u001b[0;31m    1a = 10\u001b[0m\n\u001b[0m    ^\u001b[0m\n\u001b[0;31mSyntaxError\u001b[0m\u001b[0;31m:\u001b[0m invalid decimal literal\n"
          ]
        }
      ]
    },
    {
      "cell_type": "code",
      "source": [
        "@a = 10\n",
        "print(@a)"
      ],
      "metadata": {
        "colab": {
          "base_uri": "https://localhost:8080/",
          "height": 106
        },
        "id": "bVbeB0GkwTqg",
        "outputId": "ac32ffa4-7f43-4d6e-a4a6-db7175ff5037"
      },
      "execution_count": null,
      "outputs": [
        {
          "output_type": "error",
          "ename": "SyntaxError",
          "evalue": "invalid syntax. Maybe you meant '==' or ':=' instead of '='? (<ipython-input-16-ffc36dbf31bf>, line 1)",
          "traceback": [
            "\u001b[0;36m  File \u001b[0;32m\"<ipython-input-16-ffc36dbf31bf>\"\u001b[0;36m, line \u001b[0;32m1\u001b[0m\n\u001b[0;31m    @a = 10\u001b[0m\n\u001b[0m     ^\u001b[0m\n\u001b[0;31mSyntaxError\u001b[0m\u001b[0;31m:\u001b[0m invalid syntax. Maybe you meant '==' or ':=' instead of '='?\n"
          ]
        }
      ]
    },
    {
      "cell_type": "code",
      "source": [
        "# 2.variable name can contains alpha numerical charaters(A-Z,a-z,0-9)"
      ],
      "metadata": {
        "id": "OIG3c83YfbQx"
      },
      "execution_count": null,
      "outputs": []
    },
    {
      "cell_type": "code",
      "source": [
        "name1 = \"Krishna\"\n",
        "print(name1)"
      ],
      "metadata": {
        "colab": {
          "base_uri": "https://localhost:8080/"
        },
        "id": "AC37XKf3fbV_",
        "outputId": "c9d70782-356b-4fa4-f650-fbc40f0becec"
      },
      "execution_count": null,
      "outputs": [
        {
          "output_type": "stream",
          "name": "stdout",
          "text": [
            "Krishna\n"
          ]
        }
      ]
    },
    {
      "cell_type": "code",
      "source": [
        "n1m2 = 'Ram'\n",
        "n1m2"
      ],
      "metadata": {
        "colab": {
          "base_uri": "https://localhost:8080/",
          "height": 35
        },
        "id": "B53Uul31fbYi",
        "outputId": "c7b8e762-86b3-46a6-a698-1ff0267f2ca7"
      },
      "execution_count": null,
      "outputs": [
        {
          "output_type": "execute_result",
          "data": {
            "text/plain": [
              "'Ram'"
            ],
            "application/vnd.google.colaboratory.intrinsic+json": {
              "type": "string"
            }
          },
          "metadata": {},
          "execution_count": 19
        }
      ]
    },
    {
      "cell_type": "code",
      "source": [
        "# 4.varible name cannot contains special characters(!@#$%^...) except underscore"
      ],
      "metadata": {
        "id": "fbMpiWpdfbb0"
      },
      "execution_count": null,
      "outputs": []
    },
    {
      "cell_type": "code",
      "source": [
        "name@ = \"Anish\"\n",
        "name@"
      ],
      "metadata": {
        "colab": {
          "base_uri": "https://localhost:8080/",
          "height": 106
        },
        "id": "b6yQR60Rfbgm",
        "outputId": "ec6ef58c-bc60-414f-949a-1f25be90aedc"
      },
      "execution_count": null,
      "outputs": [
        {
          "output_type": "error",
          "ename": "SyntaxError",
          "evalue": "invalid syntax (<ipython-input-20-79c0ff5dece0>, line 1)",
          "traceback": [
            "\u001b[0;36m  File \u001b[0;32m\"<ipython-input-20-79c0ff5dece0>\"\u001b[0;36m, line \u001b[0;32m1\u001b[0m\n\u001b[0;31m    name@ = \"Anish\"\u001b[0m\n\u001b[0m          ^\u001b[0m\n\u001b[0;31mSyntaxError\u001b[0m\u001b[0;31m:\u001b[0m invalid syntax\n"
          ]
        }
      ]
    },
    {
      "cell_type": "code",
      "source": [
        "na#me = \"Hikaru\"\n",
        "na#me"
      ],
      "metadata": {
        "colab": {
          "base_uri": "https://localhost:8080/",
          "height": 159
        },
        "id": "t6cMN5iyfbjP",
        "outputId": "f3e1cf02-c9a4-4c9c-8d1f-d443183875c0"
      },
      "execution_count": null,
      "outputs": [
        {
          "output_type": "error",
          "ename": "NameError",
          "evalue": "name 'na' is not defined",
          "traceback": [
            "\u001b[0;31m---------------------------------------------------------------------------\u001b[0m",
            "\u001b[0;31mNameError\u001b[0m                                 Traceback (most recent call last)",
            "\u001b[0;32m<ipython-input-21-c3f00519b0f6>\u001b[0m in \u001b[0;36m<cell line: 0>\u001b[0;34m()\u001b[0m\n\u001b[0;32m----> 1\u001b[0;31m \u001b[0mna\u001b[0m\u001b[0;31m#me = \"Hikaru\"\u001b[0m\u001b[0;34m\u001b[0m\u001b[0;34m\u001b[0m\u001b[0m\n\u001b[0m\u001b[1;32m      2\u001b[0m \u001b[0mna\u001b[0m\u001b[0;31m#me\u001b[0m\u001b[0;34m\u001b[0m\u001b[0;34m\u001b[0m\u001b[0m\n",
            "\u001b[0;31mNameError\u001b[0m: name 'na' is not defined"
          ]
        }
      ]
    },
    {
      "cell_type": "code",
      "source": [
        "na$me = \"Magnus\"\n",
        "na$me"
      ],
      "metadata": {
        "colab": {
          "base_uri": "https://localhost:8080/",
          "height": 106
        },
        "id": "nE7cpIlJfbmn",
        "outputId": "fc911930-6899-4eff-ea31-e07b915af406"
      },
      "execution_count": null,
      "outputs": [
        {
          "output_type": "error",
          "ename": "SyntaxError",
          "evalue": "invalid syntax (<ipython-input-22-f9a0b4a8472a>, line 1)",
          "traceback": [
            "\u001b[0;36m  File \u001b[0;32m\"<ipython-input-22-f9a0b4a8472a>\"\u001b[0;36m, line \u001b[0;32m1\u001b[0m\n\u001b[0;31m    na$me = \"Magnus\"\u001b[0m\n\u001b[0m      ^\u001b[0m\n\u001b[0;31mSyntaxError\u001b[0m\u001b[0;31m:\u001b[0m invalid syntax\n"
          ]
        }
      ]
    },
    {
      "cell_type": "code",
      "source": [
        "# 4. variable name are case sensitive"
      ],
      "metadata": {
        "id": "qXtP_GTJ3av0"
      },
      "execution_count": null,
      "outputs": []
    },
    {
      "cell_type": "code",
      "source": [
        "abc = \"python\"\n",
        "print(abc)"
      ],
      "metadata": {
        "colab": {
          "base_uri": "https://localhost:8080/"
        },
        "id": "DiQBplbv-mnH",
        "outputId": "8fc28c71-fad3-4156-e794-44db5f636312"
      },
      "execution_count": null,
      "outputs": [
        {
          "output_type": "stream",
          "name": "stdout",
          "text": [
            "python\n"
          ]
        }
      ]
    },
    {
      "cell_type": "code",
      "source": [
        "ABC = \"python\"\n",
        "print(ABC)"
      ],
      "metadata": {
        "colab": {
          "base_uri": "https://localhost:8080/"
        },
        "id": "ZaRHOJjc-1s_",
        "outputId": "74a0e923-6dd7-441a-e45b-c20652485b43"
      },
      "execution_count": null,
      "outputs": [
        {
          "output_type": "stream",
          "name": "stdout",
          "text": [
            "python\n"
          ]
        }
      ]
    },
    {
      "cell_type": "code",
      "source": [
        "myVar = \"Lowercase\"\n",
        "print(myVar)"
      ],
      "metadata": {
        "colab": {
          "base_uri": "https://localhost:8080/"
        },
        "id": "LEYvrvjn_Hde",
        "outputId": "883e3a96-9c49-40d8-b88d-ac047989925a"
      },
      "execution_count": null,
      "outputs": [
        {
          "output_type": "stream",
          "name": "stdout",
          "text": [
            "Lowercase\n"
          ]
        }
      ]
    },
    {
      "cell_type": "code",
      "source": [
        "print(MYVAR)"
      ],
      "metadata": {
        "colab": {
          "base_uri": "https://localhost:8080/",
          "height": 141
        },
        "id": "Jyo2Bunc_XZh",
        "outputId": "a542de26-bb32-47cf-ae77-714132395a35"
      },
      "execution_count": null,
      "outputs": [
        {
          "output_type": "error",
          "ename": "NameError",
          "evalue": "name 'MYVAR' is not defined",
          "traceback": [
            "\u001b[0;31m---------------------------------------------------------------------------\u001b[0m",
            "\u001b[0;31mNameError\u001b[0m                                 Traceback (most recent call last)",
            "\u001b[0;32m<ipython-input-27-47875bb1901b>\u001b[0m in \u001b[0;36m<cell line: 0>\u001b[0;34m()\u001b[0m\n\u001b[0;32m----> 1\u001b[0;31m \u001b[0mprint\u001b[0m\u001b[0;34m(\u001b[0m\u001b[0mMYVAR\u001b[0m\u001b[0;34m)\u001b[0m\u001b[0;34m\u001b[0m\u001b[0;34m\u001b[0m\u001b[0m\n\u001b[0m",
            "\u001b[0;31mNameError\u001b[0m: name 'MYVAR' is not defined"
          ]
        }
      ]
    },
    {
      "cell_type": "code",
      "source": [
        "print(myvar)"
      ],
      "metadata": {
        "colab": {
          "base_uri": "https://localhost:8080/",
          "height": 141
        },
        "id": "pQUq5JAi_R9s",
        "outputId": "06117975-de39-4dde-83f3-d3e188836eff"
      },
      "execution_count": null,
      "outputs": [
        {
          "output_type": "error",
          "ename": "NameError",
          "evalue": "name 'myvar' is not defined",
          "traceback": [
            "\u001b[0;31m---------------------------------------------------------------------------\u001b[0m",
            "\u001b[0;31mNameError\u001b[0m                                 Traceback (most recent call last)",
            "\u001b[0;32m<ipython-input-28-a2ef32bf878c>\u001b[0m in \u001b[0;36m<cell line: 0>\u001b[0;34m()\u001b[0m\n\u001b[0;32m----> 1\u001b[0;31m \u001b[0mprint\u001b[0m\u001b[0;34m(\u001b[0m\u001b[0mmyvar\u001b[0m\u001b[0;34m)\u001b[0m\u001b[0;34m\u001b[0m\u001b[0;34m\u001b[0m\u001b[0m\n\u001b[0m",
            "\u001b[0;31mNameError\u001b[0m: name 'myvar' is not defined"
          ]
        }
      ]
    },
    {
      "cell_type": "code",
      "source": [],
      "metadata": {
        "id": "HnADnL6e_rU7"
      },
      "execution_count": null,
      "outputs": []
    },
    {
      "cell_type": "code",
      "source": [],
      "metadata": {
        "id": "K1s36-DQ_riP"
      },
      "execution_count": null,
      "outputs": []
    },
    {
      "cell_type": "code",
      "source": [
        "print(MYVAR)"
      ],
      "metadata": {
        "colab": {
          "base_uri": "https://localhost:8080/",
          "height": 141
        },
        "id": "W7Dj8aif_L-o",
        "outputId": "32511fa0-6c77-4a84-90bf-7a5f84d87655"
      },
      "execution_count": null,
      "outputs": [
        {
          "output_type": "error",
          "ename": "NameError",
          "evalue": "name 'MYVAR' is not defined",
          "traceback": [
            "\u001b[0;31m---------------------------------------------------------------------------\u001b[0m",
            "\u001b[0;31mNameError\u001b[0m                                 Traceback (most recent call last)",
            "\u001b[0;32m<ipython-input-29-47875bb1901b>\u001b[0m in \u001b[0;36m<cell line: 0>\u001b[0;34m()\u001b[0m\n\u001b[0;32m----> 1\u001b[0;31m \u001b[0mprint\u001b[0m\u001b[0;34m(\u001b[0m\u001b[0mMYVAR\u001b[0m\u001b[0;34m)\u001b[0m\u001b[0;34m\u001b[0m\u001b[0;34m\u001b[0m\u001b[0m\n\u001b[0m",
            "\u001b[0;31mNameError\u001b[0m: name 'MYVAR' is not defined"
          ]
        }
      ]
    },
    {
      "cell_type": "code",
      "source": [
        "x = 10\n",
        "print(X)"
      ],
      "metadata": {
        "colab": {
          "base_uri": "https://localhost:8080/",
          "height": 159
        },
        "id": "R_upUGWL-1wU",
        "outputId": "1e497ec8-b66c-44f1-fbaa-97bb742e2ea6"
      },
      "execution_count": null,
      "outputs": [
        {
          "output_type": "error",
          "ename": "NameError",
          "evalue": "name 'X' is not defined",
          "traceback": [
            "\u001b[0;31m---------------------------------------------------------------------------\u001b[0m",
            "\u001b[0;31mNameError\u001b[0m                                 Traceback (most recent call last)",
            "\u001b[0;32m<ipython-input-30-0f5ea63aba13>\u001b[0m in \u001b[0;36m<cell line: 0>\u001b[0;34m()\u001b[0m\n\u001b[1;32m      1\u001b[0m \u001b[0mx\u001b[0m \u001b[0;34m=\u001b[0m \u001b[0;36m10\u001b[0m\u001b[0;34m\u001b[0m\u001b[0;34m\u001b[0m\u001b[0m\n\u001b[0;32m----> 2\u001b[0;31m \u001b[0mprint\u001b[0m\u001b[0;34m(\u001b[0m\u001b[0mX\u001b[0m\u001b[0;34m)\u001b[0m\u001b[0;34m\u001b[0m\u001b[0;34m\u001b[0m\u001b[0m\n\u001b[0m",
            "\u001b[0;31mNameError\u001b[0m: name 'X' is not defined"
          ]
        }
      ]
    },
    {
      "cell_type": "code",
      "source": [],
      "metadata": {
        "id": "nuAxXET6-19F"
      },
      "execution_count": null,
      "outputs": []
    },
    {
      "cell_type": "code",
      "source": [
        "abc = 'Arjun'\n",
        "print(abc)"
      ],
      "metadata": {
        "colab": {
          "base_uri": "https://localhost:8080/"
        },
        "id": "cDfoNlfr3bMA",
        "outputId": "f56b83b4-fe3f-4dcd-a936-9f2269551ae6"
      },
      "execution_count": null,
      "outputs": [
        {
          "output_type": "stream",
          "name": "stdout",
          "text": [
            "Arjun\n"
          ]
        }
      ]
    },
    {
      "cell_type": "code",
      "source": [
        "print(ABC)"
      ],
      "metadata": {
        "colab": {
          "base_uri": "https://localhost:8080/"
        },
        "id": "R-jcIcD7943s",
        "outputId": "6e1df59e-4305-4ebb-ee78-a815d2df13c5"
      },
      "execution_count": null,
      "outputs": [
        {
          "output_type": "stream",
          "name": "stdout",
          "text": [
            "python\n"
          ]
        }
      ]
    },
    {
      "cell_type": "code",
      "source": [
        "Myname = \"Ajeet\"\n",
        "print(Myname)"
      ],
      "metadata": {
        "colab": {
          "base_uri": "https://localhost:8080/"
        },
        "id": "5dTYijEF-Bqb",
        "outputId": "34a6cd71-0118-4304-ef1c-47573ed38fe1"
      },
      "execution_count": null,
      "outputs": [
        {
          "output_type": "stream",
          "name": "stdout",
          "text": [
            "Ajeet\n"
          ]
        }
      ]
    },
    {
      "cell_type": "code",
      "source": [
        "myname"
      ],
      "metadata": {
        "colab": {
          "base_uri": "https://localhost:8080/",
          "height": 141
        },
        "id": "kuIdMo6L-Bsp",
        "outputId": "91e308b3-702d-4137-c2da-ce46a500177e"
      },
      "execution_count": null,
      "outputs": [
        {
          "output_type": "error",
          "ename": "NameError",
          "evalue": "name 'myname' is not defined",
          "traceback": [
            "\u001b[0;31m---------------------------------------------------------------------------\u001b[0m",
            "\u001b[0;31mNameError\u001b[0m                                 Traceback (most recent call last)",
            "\u001b[0;32m<ipython-input-34-8bdcf4d28564>\u001b[0m in \u001b[0;36m<cell line: 0>\u001b[0;34m()\u001b[0m\n\u001b[0;32m----> 1\u001b[0;31m \u001b[0mmyname\u001b[0m\u001b[0;34m\u001b[0m\u001b[0;34m\u001b[0m\u001b[0m\n\u001b[0m",
            "\u001b[0;31mNameError\u001b[0m: name 'myname' is not defined"
          ]
        }
      ]
    },
    {
      "cell_type": "code",
      "source": [
        "MYNAME"
      ],
      "metadata": {
        "colab": {
          "base_uri": "https://localhost:8080/",
          "height": 141
        },
        "id": "Gt7B2Gz2-MAX",
        "outputId": "a972ec12-286a-45c0-bc97-8b8205eabc88"
      },
      "execution_count": null,
      "outputs": [
        {
          "output_type": "error",
          "ename": "NameError",
          "evalue": "name 'MYNAME' is not defined",
          "traceback": [
            "\u001b[0;31m---------------------------------------------------------------------------\u001b[0m",
            "\u001b[0;31mNameError\u001b[0m                                 Traceback (most recent call last)",
            "\u001b[0;32m<ipython-input-35-972074849ab3>\u001b[0m in \u001b[0;36m<cell line: 0>\u001b[0;34m()\u001b[0m\n\u001b[0;32m----> 1\u001b[0;31m \u001b[0mMYNAME\u001b[0m\u001b[0;34m\u001b[0m\u001b[0;34m\u001b[0m\u001b[0m\n\u001b[0m",
            "\u001b[0;31mNameError\u001b[0m: name 'MYNAME' is not defined"
          ]
        }
      ]
    },
    {
      "cell_type": "code",
      "source": [
        "MYNAME = \"wesly\"\n",
        "print(MYNAME)"
      ],
      "metadata": {
        "colab": {
          "base_uri": "https://localhost:8080/"
        },
        "id": "_tY-o6CL-MDj",
        "outputId": "b5613b73-56b9-430b-c7e1-fa6bd484d8d1"
      },
      "execution_count": null,
      "outputs": [
        {
          "output_type": "stream",
          "name": "stdout",
          "text": [
            "wesly\n"
          ]
        }
      ]
    },
    {
      "cell_type": "code",
      "source": [
        "# 5.variable name cannot use the reserved keywords ..True,False,import,if, else,...."
      ],
      "metadata": {
        "id": "qEVe1-2I21GQ"
      },
      "execution_count": null,
      "outputs": []
    },
    {
      "cell_type": "code",
      "source": [
        "# 5.varible name cannot contains special characters(!@#$%^...) except underscore"
      ],
      "metadata": {
        "id": "2rDWZObI-Avr"
      },
      "execution_count": null,
      "outputs": []
    },
    {
      "cell_type": "code",
      "source": [
        "my_name = \"ankur\"\n",
        "print(my_name)"
      ],
      "metadata": {
        "colab": {
          "base_uri": "https://localhost:8080/"
        },
        "id": "riTDrNu53CP9",
        "outputId": "f7b1a95a-ca59-47da-ace4-051ed3b5ca6c"
      },
      "execution_count": null,
      "outputs": [
        {
          "output_type": "stream",
          "name": "stdout",
          "text": [
            "ankur\n"
          ]
        }
      ]
    },
    {
      "cell_type": "code",
      "source": [
        "my@name = \"ankur\"\n",
        "print(my@name)\n"
      ],
      "metadata": {
        "colab": {
          "base_uri": "https://localhost:8080/",
          "height": 106
        },
        "id": "RkATyUf-3CSH",
        "outputId": "4b4b6d9d-f5f4-4748-c1ae-9ad0f3b81cec"
      },
      "execution_count": null,
      "outputs": [
        {
          "output_type": "error",
          "ename": "SyntaxError",
          "evalue": "cannot assign to expression here. Maybe you meant '==' instead of '='? (<ipython-input-38-c89d7d801c01>, line 1)",
          "traceback": [
            "\u001b[0;36m  File \u001b[0;32m\"<ipython-input-38-c89d7d801c01>\"\u001b[0;36m, line \u001b[0;32m1\u001b[0m\n\u001b[0;31m    my@name = \"ankur\"\u001b[0m\n\u001b[0m    ^\u001b[0m\n\u001b[0;31mSyntaxError\u001b[0m\u001b[0;31m:\u001b[0m cannot assign to expression here. Maybe you meant '==' instead of '='?\n"
          ]
        }
      ]
    },
    {
      "cell_type": "code",
      "source": [
        "var$ = 20\n",
        "print(var$)"
      ],
      "metadata": {
        "colab": {
          "base_uri": "https://localhost:8080/",
          "height": 106
        },
        "id": "4Z9StXN_3CVP",
        "outputId": "4f323e36-d58d-4501-82ff-6ca9e135b21a"
      },
      "execution_count": null,
      "outputs": [
        {
          "output_type": "error",
          "ename": "SyntaxError",
          "evalue": "invalid syntax (<ipython-input-39-5b02673d7d3e>, line 1)",
          "traceback": [
            "\u001b[0;36m  File \u001b[0;32m\"<ipython-input-39-5b02673d7d3e>\"\u001b[0;36m, line \u001b[0;32m1\u001b[0m\n\u001b[0;31m    var$ = 20\u001b[0m\n\u001b[0m       ^\u001b[0m\n\u001b[0;31mSyntaxError\u001b[0m\u001b[0;31m:\u001b[0m invalid syntax\n"
          ]
        }
      ]
    },
    {
      "cell_type": "code",
      "source": [
        "name space = \"error\"\n",
        "print(name space)"
      ],
      "metadata": {
        "colab": {
          "base_uri": "https://localhost:8080/",
          "height": 106
        },
        "id": "zdPtkYw13CYJ",
        "outputId": "2e9b0733-8fec-4a9f-b6d6-a6ef5c74d054"
      },
      "execution_count": null,
      "outputs": [
        {
          "output_type": "error",
          "ename": "SyntaxError",
          "evalue": "invalid syntax (<ipython-input-41-ad28fbe114ac>, line 1)",
          "traceback": [
            "\u001b[0;36m  File \u001b[0;32m\"<ipython-input-41-ad28fbe114ac>\"\u001b[0;36m, line \u001b[0;32m1\u001b[0m\n\u001b[0;31m    name space = \"error\"\u001b[0m\n\u001b[0m         ^\u001b[0m\n\u001b[0;31mSyntaxError\u001b[0m\u001b[0;31m:\u001b[0m invalid syntax\n"
          ]
        }
      ]
    },
    {
      "cell_type": "code",
      "source": [
        "_myvar = 10\n",
        "print(_myvar)"
      ],
      "metadata": {
        "colab": {
          "base_uri": "https://localhost:8080/"
        },
        "id": "ddNRTqm13CbD",
        "outputId": "a611ccbc-b530-4c28-b357-e58d1a68b8e5"
      },
      "execution_count": null,
      "outputs": [
        {
          "output_type": "stream",
          "name": "stdout",
          "text": [
            "10\n"
          ]
        }
      ]
    },
    {
      "cell_type": "code",
      "source": [
        "# 6.variable name cannot use the reserved keywords ..True,False,import,if, else,...."
      ],
      "metadata": {
        "id": "lq3rvEjY3Cd9"
      },
      "execution_count": null,
      "outputs": []
    },
    {
      "cell_type": "code",
      "source": [
        "if = \"error\"\n",
        "print(if)"
      ],
      "metadata": {
        "colab": {
          "base_uri": "https://localhost:8080/",
          "height": 106
        },
        "id": "RpyFE1Z4A4XR",
        "outputId": "3ee9486a-3075-4c35-9293-0e671d804428"
      },
      "execution_count": null,
      "outputs": [
        {
          "output_type": "error",
          "ename": "SyntaxError",
          "evalue": "invalid syntax (<ipython-input-44-920f3bc8bcf5>, line 1)",
          "traceback": [
            "\u001b[0;36m  File \u001b[0;32m\"<ipython-input-44-920f3bc8bcf5>\"\u001b[0;36m, line \u001b[0;32m1\u001b[0m\n\u001b[0;31m    if = \"error\"\u001b[0m\n\u001b[0m       ^\u001b[0m\n\u001b[0;31mSyntaxError\u001b[0m\u001b[0;31m:\u001b[0m invalid syntax\n"
          ]
        }
      ]
    },
    {
      "cell_type": "code",
      "source": [
        "True = \"error\"\n",
        "print(True)"
      ],
      "metadata": {
        "colab": {
          "base_uri": "https://localhost:8080/",
          "height": 106
        },
        "id": "EBHEIRl6A4Z_",
        "outputId": "c6d17d3e-0540-4d79-e0fa-d3cf1d9d387b"
      },
      "execution_count": null,
      "outputs": [
        {
          "output_type": "error",
          "ename": "SyntaxError",
          "evalue": "cannot assign to True (<ipython-input-46-6e52bb650792>, line 1)",
          "traceback": [
            "\u001b[0;36m  File \u001b[0;32m\"<ipython-input-46-6e52bb650792>\"\u001b[0;36m, line \u001b[0;32m1\u001b[0m\n\u001b[0;31m    True = \"error\"\u001b[0m\n\u001b[0m    ^\u001b[0m\n\u001b[0;31mSyntaxError\u001b[0m\u001b[0;31m:\u001b[0m cannot assign to True\n"
          ]
        }
      ]
    },
    {
      "cell_type": "code",
      "source": [
        "import = \"error\"\n",
        "print(import)"
      ],
      "metadata": {
        "colab": {
          "base_uri": "https://localhost:8080/",
          "height": 106
        },
        "id": "7UMenVXjA4do",
        "outputId": "a582a180-a9dd-4564-f9b5-996b7cca6dd8"
      },
      "execution_count": null,
      "outputs": [
        {
          "output_type": "error",
          "ename": "SyntaxError",
          "evalue": "invalid syntax (<ipython-input-47-8a97a597f1a6>, line 1)",
          "traceback": [
            "\u001b[0;36m  File \u001b[0;32m\"<ipython-input-47-8a97a597f1a6>\"\u001b[0;36m, line \u001b[0;32m1\u001b[0m\n\u001b[0;31m    import = \"error\"\u001b[0m\n\u001b[0m           ^\u001b[0m\n\u001b[0;31mSyntaxError\u001b[0m\u001b[0;31m:\u001b[0m invalid syntax\n"
          ]
        }
      ]
    },
    {
      "cell_type": "code",
      "source": [
        "def = \"error\"\n",
        "print(def)"
      ],
      "metadata": {
        "colab": {
          "base_uri": "https://localhost:8080/",
          "height": 106
        },
        "id": "qTfLbRjlA4hY",
        "outputId": "03a3e50b-4215-4eef-df27-fbc85c0482c3"
      },
      "execution_count": null,
      "outputs": [
        {
          "output_type": "error",
          "ename": "SyntaxError",
          "evalue": "invalid syntax (<ipython-input-48-c2bbae74fd0c>, line 1)",
          "traceback": [
            "\u001b[0;36m  File \u001b[0;32m\"<ipython-input-48-c2bbae74fd0c>\"\u001b[0;36m, line \u001b[0;32m1\u001b[0m\n\u001b[0;31m    def = \"error\"\u001b[0m\n\u001b[0m        ^\u001b[0m\n\u001b[0;31mSyntaxError\u001b[0m\u001b[0;31m:\u001b[0m invalid syntax\n"
          ]
        }
      ]
    },
    {
      "cell_type": "code",
      "source": [
        "# 7.do not use the in built functions name as varible name its not recommended to use it as print, help,sum, min, max,..."
      ],
      "metadata": {
        "id": "AtvmBQoLA4kz"
      },
      "execution_count": null,
      "outputs": []
    },
    {
      "cell_type": "code",
      "source": [
        "# type = \"int\"\n",
        "# print(type)"
      ],
      "metadata": {
        "id": "6TEIp2N_CKt2"
      },
      "execution_count": null,
      "outputs": []
    },
    {
      "cell_type": "code",
      "source": [
        "len = 5\n",
        "print(len)"
      ],
      "metadata": {
        "colab": {
          "base_uri": "https://localhost:8080/"
        },
        "id": "f8fkCZdNCN3Z",
        "outputId": "7fb2aaf5-add6-4518-bf4c-2dc4c40b69ab"
      },
      "execution_count": null,
      "outputs": [
        {
          "output_type": "stream",
          "name": "stdout",
          "text": [
            "5\n"
          ]
        }
      ]
    },
    {
      "cell_type": "code",
      "source": [
        "# del - Used to Delete a Variable"
      ],
      "metadata": {
        "id": "cEbh2ECLCWdg"
      },
      "execution_count": null,
      "outputs": []
    },
    {
      "cell_type": "code",
      "source": [
        "name = \"python\"\n",
        "print(name)"
      ],
      "metadata": {
        "colab": {
          "base_uri": "https://localhost:8080/"
        },
        "id": "-PfuQBtbCePf",
        "outputId": "ae7f0fb3-6402-43c7-ee12-42a24427d9f2"
      },
      "execution_count": null,
      "outputs": [
        {
          "output_type": "stream",
          "name": "stdout",
          "text": [
            "python\n"
          ]
        }
      ]
    },
    {
      "cell_type": "code",
      "source": [
        "del name"
      ],
      "metadata": {
        "id": "VPhKkxrrDIzA"
      },
      "execution_count": null,
      "outputs": []
    },
    {
      "cell_type": "code",
      "source": [
        "name"
      ],
      "metadata": {
        "colab": {
          "base_uri": "https://localhost:8080/",
          "height": 141
        },
        "id": "tu1DZUsOCeWU",
        "outputId": "7efed34e-d5dc-4f2b-a8c4-f4ea2a4f76ce"
      },
      "execution_count": null,
      "outputs": [
        {
          "output_type": "error",
          "ename": "NameError",
          "evalue": "name 'name' is not defined",
          "traceback": [
            "\u001b[0;31m---------------------------------------------------------------------------\u001b[0m",
            "\u001b[0;31mNameError\u001b[0m                                 Traceback (most recent call last)",
            "\u001b[0;32m<ipython-input-53-9bc0cb2ed6de>\u001b[0m in \u001b[0;36m<cell line: 0>\u001b[0;34m()\u001b[0m\n\u001b[0;32m----> 1\u001b[0;31m \u001b[0mname\u001b[0m\u001b[0;34m\u001b[0m\u001b[0;34m\u001b[0m\u001b[0m\n\u001b[0m",
            "\u001b[0;31mNameError\u001b[0m: name 'name' is not defined"
          ]
        }
      ]
    },
    {
      "cell_type": "code",
      "source": [
        "age = 30\n",
        "print(age)"
      ],
      "metadata": {
        "colab": {
          "base_uri": "https://localhost:8080/"
        },
        "id": "2kDRbXVFCeZ1",
        "outputId": "42152eb2-2c86-4f7a-8b9b-1ea3fffb665d"
      },
      "execution_count": null,
      "outputs": [
        {
          "output_type": "stream",
          "name": "stdout",
          "text": [
            "30\n"
          ]
        }
      ]
    },
    {
      "cell_type": "code",
      "source": [
        "del age"
      ],
      "metadata": {
        "id": "0Lr_qd8FCedO"
      },
      "execution_count": null,
      "outputs": []
    },
    {
      "cell_type": "code",
      "source": [
        "print(del)"
      ],
      "metadata": {
        "colab": {
          "base_uri": "https://localhost:8080/",
          "height": 106
        },
        "id": "kujQKg1tCegh",
        "outputId": "4f043f00-e055-4efe-c579-d1660de0b4da"
      },
      "execution_count": null,
      "outputs": [
        {
          "output_type": "error",
          "ename": "SyntaxError",
          "evalue": "invalid syntax (<ipython-input-56-11d13dda967a>, line 1)",
          "traceback": [
            "\u001b[0;36m  File \u001b[0;32m\"<ipython-input-56-11d13dda967a>\"\u001b[0;36m, line \u001b[0;32m1\u001b[0m\n\u001b[0;31m    print(del)\u001b[0m\n\u001b[0m          ^\u001b[0m\n\u001b[0;31mSyntaxError\u001b[0m\u001b[0;31m:\u001b[0m invalid syntax\n"
          ]
        }
      ]
    },
    {
      "cell_type": "code",
      "source": [
        "name = \"Python\"\n",
        "print(type(name))"
      ],
      "metadata": {
        "colab": {
          "base_uri": "https://localhost:8080/",
          "height": 159
        },
        "id": "sJ_sLcDpEaiR",
        "outputId": "77467c04-ca1b-4a6d-d385-af21e51ca56d"
      },
      "execution_count": null,
      "outputs": [
        {
          "output_type": "error",
          "ename": "TypeError",
          "evalue": "'str' object is not callable",
          "traceback": [
            "\u001b[0;31m---------------------------------------------------------------------------\u001b[0m",
            "\u001b[0;31mTypeError\u001b[0m                                 Traceback (most recent call last)",
            "\u001b[0;32m<ipython-input-60-f8ddaef6db42>\u001b[0m in \u001b[0;36m<cell line: 0>\u001b[0;34m()\u001b[0m\n\u001b[1;32m      1\u001b[0m \u001b[0mname\u001b[0m \u001b[0;34m=\u001b[0m \u001b[0;34m\"Python\"\u001b[0m\u001b[0;34m\u001b[0m\u001b[0;34m\u001b[0m\u001b[0m\n\u001b[0;32m----> 2\u001b[0;31m \u001b[0mprint\u001b[0m\u001b[0;34m(\u001b[0m\u001b[0mtype\u001b[0m\u001b[0;34m(\u001b[0m\u001b[0mname\u001b[0m\u001b[0;34m)\u001b[0m\u001b[0;34m)\u001b[0m\u001b[0;34m\u001b[0m\u001b[0;34m\u001b[0m\u001b[0m\n\u001b[0m",
            "\u001b[0;31mTypeError\u001b[0m: 'str' object is not callable"
          ]
        }
      ]
    },
    {
      "cell_type": "code",
      "source": [
        "# Example 1:\n",
        "name = \"Python\"\n",
        "print(type(name))  # Output: <class 'str'>\n",
        "\n",
        "# Example 2:\n",
        "age = 25\n",
        "print(type(age))   # Output: <class 'int'>\n",
        "\n",
        "# Example 3:\n",
        "salary = 25000.50\n",
        "print(type(salary))  # Output: <class 'float'>\n",
        "\n",
        "# Example 4:\n",
        "data = [1, 2, 3]\n",
        "print(type(data))    # Output: <class 'list'>\n",
        "\n",
        "# Example 5:\n",
        "is_active = True\n",
        "print(type(is_active))  # Output: <class 'bool'>"
      ],
      "metadata": {
        "colab": {
          "base_uri": "https://localhost:8080/",
          "height": 211
        },
        "id": "ZgG924PrCekA",
        "outputId": "a18536ed-d941-4944-dc2c-e530ca5a39ed"
      },
      "execution_count": null,
      "outputs": [
        {
          "output_type": "error",
          "ename": "TypeError",
          "evalue": "'str' object is not callable",
          "traceback": [
            "\u001b[0;31m---------------------------------------------------------------------------\u001b[0m",
            "\u001b[0;31mTypeError\u001b[0m                                 Traceback (most recent call last)",
            "\u001b[0;32m<ipython-input-57-352786ae475e>\u001b[0m in \u001b[0;36m<cell line: 0>\u001b[0;34m()\u001b[0m\n\u001b[1;32m      1\u001b[0m \u001b[0;31m# Example 1:\u001b[0m\u001b[0;34m\u001b[0m\u001b[0;34m\u001b[0m\u001b[0m\n\u001b[1;32m      2\u001b[0m \u001b[0mname\u001b[0m \u001b[0;34m=\u001b[0m \u001b[0;34m\"Python\"\u001b[0m\u001b[0;34m\u001b[0m\u001b[0;34m\u001b[0m\u001b[0m\n\u001b[0;32m----> 3\u001b[0;31m \u001b[0mprint\u001b[0m\u001b[0;34m(\u001b[0m\u001b[0mtype\u001b[0m\u001b[0;34m(\u001b[0m\u001b[0mname\u001b[0m\u001b[0;34m)\u001b[0m\u001b[0;34m)\u001b[0m  \u001b[0;31m# Output: <class 'str'>\u001b[0m\u001b[0;34m\u001b[0m\u001b[0;34m\u001b[0m\u001b[0m\n\u001b[0m\u001b[1;32m      4\u001b[0m \u001b[0;34m\u001b[0m\u001b[0m\n\u001b[1;32m      5\u001b[0m \u001b[0;31m# Example 2:\u001b[0m\u001b[0;34m\u001b[0m\u001b[0;34m\u001b[0m\u001b[0m\n",
            "\u001b[0;31mTypeError\u001b[0m: 'str' object is not callable"
          ]
        }
      ]
    },
    {
      "cell_type": "code",
      "source": [
        "# Indentation"
      ],
      "metadata": {
        "id": "mTDH1tNaCenY"
      },
      "execution_count": null,
      "outputs": []
    },
    {
      "cell_type": "code",
      "source": [
        "# Example 1: Correct Indentation\n",
        "if True:\n",
        "    print(\"Python requires proper indentation.\")\n",
        "\n",
        "# Example 2: Incorrect Indentation\n",
        "# Uncommenting the below code will throw an error\n",
        "# if True:\n",
        "# print(\"This will cause an IndentationError.\")\n",
        "\n",
        "# Example 3: Nested Indentation\n",
        "if True:\n",
        "    if True:\n",
        "        print(\"Nested blocks require proper indentation.\")\n",
        "\n",
        "# Example 4: Loop with Indentation\n",
        "for i in range(3):\n",
        "    print(\"Number:\", i)  # Correct indentation inside the loop\n",
        "\n",
        "# Example 5: Function with Indentation\n",
        "def greet():\n",
        "    print(\"Hello, World!\")  # Properly indented function body\n",
        "greet()"
      ],
      "metadata": {
        "id": "B5FSZBdMCeqa"
      },
      "execution_count": null,
      "outputs": []
    },
    {
      "cell_type": "code",
      "source": [
        "# Data Types\n",
        "Numeric : int, float, complex\n",
        "\n",
        "text : str\n",
        "\n",
        "sequence : list , tuple, range\n",
        "\n",
        "setDt: set, frozenset\n",
        "\n",
        "mapping : dict(dictionary)[ key and pair values]\n",
        "\n",
        "Boolean : bool (True & False)\n",
        "\n",
        "Binary : bytes"
      ],
      "metadata": {
        "id": "oRHoQgouCetL"
      },
      "execution_count": null,
      "outputs": []
    },
    {
      "cell_type": "code",
      "source": [
        "# int Data Type\n",
        "Whole Numbers\n",
        "+ve or -ve\n",
        "without decimal numbers"
      ],
      "metadata": {
        "id": "-IoUTWhb2vLn"
      },
      "execution_count": null,
      "outputs": []
    },
    {
      "cell_type": "code",
      "source": [
        "x=10\n",
        "type(x)"
      ],
      "metadata": {
        "id": "Bvha4cwB2vO6"
      },
      "execution_count": null,
      "outputs": []
    },
    {
      "cell_type": "code",
      "source": [
        "z=-10\n",
        "type(z)"
      ],
      "metadata": {
        "id": "Saq1sQ9N24TF"
      },
      "execution_count": null,
      "outputs": []
    },
    {
      "cell_type": "code",
      "source": [
        "x=1000\n",
        "type(x)"
      ],
      "metadata": {
        "id": "R7zT1cVb24Wr"
      },
      "execution_count": null,
      "outputs": []
    },
    {
      "cell_type": "code",
      "source": [
        "# Float Data Type\n",
        "+ve or -ve\n",
        "with decimal numbers"
      ],
      "metadata": {
        "id": "6yz12VUP24ai"
      },
      "execution_count": null,
      "outputs": []
    },
    {
      "cell_type": "code",
      "source": [
        "fl_num=20.23\n",
        "print('Data type of variable is :', type(fl_num))"
      ],
      "metadata": {
        "id": "-6Q-f9gj24pP"
      },
      "execution_count": null,
      "outputs": []
    },
    {
      "cell_type": "code",
      "source": [
        "fl_num=-20.23\n",
        "print('Data type of variable is :', type(fl_num))"
      ],
      "metadata": {
        "id": "-OT3iqRk24tB"
      },
      "execution_count": null,
      "outputs": []
    },
    {
      "cell_type": "code",
      "source": [
        "fl_num=1.0\n",
        "print('Data type of variable is :', type(fl_num))"
      ],
      "metadata": {
        "id": "MfibYTEm3IKq"
      },
      "execution_count": null,
      "outputs": []
    },
    {
      "cell_type": "code",
      "source": [
        "a=27\n",
        "b=4\n",
        "c=b/a\n",
        "print(round(c, 3))"
      ],
      "metadata": {
        "id": "3dLVAyGW3INm"
      },
      "execution_count": null,
      "outputs": []
    },
    {
      "cell_type": "code",
      "source": [
        "# shft + tab (docstring: which specify specs of that function)\n",
        "# shft + tab+tab"
      ],
      "metadata": {
        "id": "WxoyiZW03N2W"
      },
      "execution_count": null,
      "outputs": []
    },
    {
      "cell_type": "code",
      "source": [
        "# Complex Data Type\n",
        "Contains Real and Imaginary Part\n",
        "in imaginary part only (j) should be use"
      ],
      "metadata": {
        "id": "DV7l8Lv73N5t"
      },
      "execution_count": null,
      "outputs": []
    },
    {
      "cell_type": "code",
      "source": [
        "var(a) = real(3) + imaginary(4j)"
      ],
      "metadata": {
        "id": "N0ayywK93N82"
      },
      "execution_count": null,
      "outputs": []
    },
    {
      "cell_type": "code",
      "source": [
        "a=3+4j\n",
        "type(a)"
      ],
      "metadata": {
        "id": "I2F-8gtO3IdY"
      },
      "execution_count": null,
      "outputs": []
    },
    {
      "cell_type": "code",
      "source": [
        "a=3.5+4.5j\n",
        "type(a)"
      ],
      "metadata": {
        "id": "V-r5OqUd2mLO"
      },
      "execution_count": null,
      "outputs": []
    },
    {
      "cell_type": "code",
      "source": [
        "z = 4j\n",
        "type(z)"
      ],
      "metadata": {
        "id": "kU2pzAEx4JX3"
      },
      "execution_count": null,
      "outputs": []
    },
    {
      "cell_type": "code",
      "source": [
        "abs(10)"
      ],
      "metadata": {
        "id": "i-WYMWUA4Jbh"
      },
      "execution_count": null,
      "outputs": []
    },
    {
      "cell_type": "code",
      "source": [
        "abs(10.1)"
      ],
      "metadata": {
        "id": "lKBTw97o4JlN"
      },
      "execution_count": null,
      "outputs": []
    },
    {
      "cell_type": "code",
      "source": [
        "abs(-10)"
      ],
      "metadata": {
        "id": "-c3_yB-N4Jp1"
      },
      "execution_count": null,
      "outputs": []
    },
    {
      "cell_type": "code",
      "source": [
        "# Python Casting"
      ],
      "metadata": {
        "id": "ZsQmYTdS4T1Z"
      },
      "execution_count": null,
      "outputs": []
    },
    {
      "cell_type": "code",
      "source": [
        "change data type of variables\n",
        "specify variable type"
      ],
      "metadata": {
        "id": "Df5QL4sE4T4b"
      },
      "execution_count": null,
      "outputs": []
    },
    {
      "cell_type": "code",
      "source": [
        "# 1. int to float"
      ],
      "metadata": {
        "id": "pkcB3Gmh4T7g"
      },
      "execution_count": null,
      "outputs": []
    },
    {
      "cell_type": "code",
      "source": [
        "num=20\n",
        "print('actual data type is :', type(num))\n",
        "num= float(num)\n",
        "print('Updated type of num is :', type(num), num)"
      ],
      "metadata": {
        "id": "Q2RHO8Vn4T_o"
      },
      "execution_count": null,
      "outputs": []
    },
    {
      "cell_type": "code",
      "source": [
        "2. float to int"
      ],
      "metadata": {
        "id": "_4IVewHG4iK5"
      },
      "execution_count": null,
      "outputs": []
    },
    {
      "cell_type": "code",
      "source": [
        "num=10.84\n",
        "print('actual data type is :', type(num))\n",
        "num= int(num)\n",
        "print('Updated type of num is :', type(num), num)"
      ],
      "metadata": {
        "id": "FxxDjpWG4iOT"
      },
      "execution_count": null,
      "outputs": []
    },
    {
      "cell_type": "code",
      "source": [
        "3. int to complex"
      ],
      "metadata": {
        "id": "yUkCaRHf4iSc"
      },
      "execution_count": null,
      "outputs": []
    },
    {
      "cell_type": "code",
      "source": [
        "a=88\n",
        "print(f'Value of a is {a} and its data type is{type(a)}')\n",
        "\n",
        "a=complex(a)\n",
        "print(f'Value of a is {a} and its data type is{type(a)}')"
      ],
      "metadata": {
        "id": "htSwPJVw4pwU"
      },
      "execution_count": null,
      "outputs": []
    },
    {
      "cell_type": "code",
      "source": [
        "4.float to complex"
      ],
      "metadata": {
        "id": "SRgvyAb44pzN"
      },
      "execution_count": null,
      "outputs": []
    },
    {
      "cell_type": "code",
      "source": [
        "x=7.8\n",
        "print(f'Value of x is {x} and its data type is{type(x)}')\n",
        "\n",
        "x=complex(x)\n",
        "print(f'Value of x is {x} and its data type is{type(x)}')"
      ],
      "metadata": {
        "id": "LNCImfwq4v0M"
      },
      "execution_count": null,
      "outputs": []
    },
    {
      "cell_type": "code",
      "source": [
        "5. Complex to int"
      ],
      "metadata": {
        "id": "_LFEmq7o4v3H"
      },
      "execution_count": null,
      "outputs": []
    },
    {
      "cell_type": "code",
      "source": [
        "complex to int or float is not possible"
      ],
      "metadata": {
        "id": "p1DKXcgJ4v7a"
      },
      "execution_count": null,
      "outputs": []
    },
    {
      "cell_type": "code",
      "source": [
        "complex to int or float is not possible\n",
        "x=877.49+4j\n",
        "print(f'Value of x is {x} and its data type is{type(x)}')\n",
        "\n",
        "x=int(x)\n",
        "print(f'Value of x is {x} and its data type is{type(x)}')"
      ],
      "metadata": {
        "id": "9VTRcQ6m4v_M"
      },
      "execution_count": null,
      "outputs": []
    },
    {
      "cell_type": "code",
      "source": [
        "x=877.49+4j\n",
        "print(f'Value of x is {x} and its data type is{type(x)}')\n",
        "\n",
        "x=float(x)\n",
        "print(f'Value of x is {x} and its data type is{type(x)}')"
      ],
      "metadata": {
        "id": "ZWJwKSyR4wCl"
      },
      "execution_count": null,
      "outputs": []
    },
    {
      "cell_type": "code",
      "source": [],
      "metadata": {
        "id": "F3SeFMOKFWUF"
      },
      "execution_count": null,
      "outputs": []
    }
  ]
}