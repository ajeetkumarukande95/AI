{
  "nbformat": 4,
  "nbformat_minor": 0,
  "metadata": {
    "colab": {
      "provenance": []
    },
    "kernelspec": {
      "name": "python3",
      "display_name": "Python 3"
    },
    "language_info": {
      "name": "python"
    }
  },
  "cells": [
    {
      "cell_type": "code",
      "execution_count": null,
      "metadata": {
        "id": "tYOwfut12ivS"
      },
      "outputs": [],
      "source": [
        "# Tuple\n",
        "# Tuple are used to store a group of values/ sequence\n",
        "# Tuple are Immutable (the value of item stored in tuple can not be changed/modified)\n",
        "# Ordered\n",
        "# It allows duplicate items\n",
        "# Tuple are enclosed by parenthesis>>()\n",
        "# Heterogenous data types(int, float,str,list, tuple...etc)\n",
        "# Comma seperated\n",
        "# Tuples are faster than list( we can not perform modification and memory consumption will be less)"
      ]
    },
    {
      "cell_type": "code",
      "source": [
        "# Create a tuple of fruits\n",
        "fruits = (\"apple\", \"banana\", \"cherry\")\n",
        "print(fruits)\n",
        "print(type(fruits))\n",
        "\n",
        "# Length of the tuple\n",
        "print(len(fruits))\n",
        "\n",
        "# Access the first and last element\n",
        "print(fruits[0])\n",
        "print(fruits[-1])\n",
        "\n",
        "# iterating over tuple elements\n",
        "fruits = (\"apple\", \"banana\", \"cherry\")\n",
        "for i in fruits:\n",
        "    print(i)\n",
        "\n",
        "t1=(10,20,30,40)\n",
        "for i in t1:\n",
        "    sqr=i**2\n",
        "    print(i,sqr)\n",
        "\n",
        "\n",
        "# modifying tuple elements\n",
        "fruits = (\"apple\", \"banana\", \"cherry\")\n",
        "fruits[-1]=\"Mango\"\n",
        "\n",
        "# Concatenation\n",
        "tuple1 = (1, 2, 3)\n",
        "tuple2 = (4, 5, 6)\n",
        "combined = tuple1 + tuple2\n",
        "print(combined)\n",
        "\n",
        "# Repetition\n",
        "repeated = tuple1 * 3\n",
        "print(repeated)\n",
        "\n",
        "\n",
        "#  Tuple Operations\n",
        "# Indexing of element ele\n",
        "tuple1 = (1, 2, 3)\n",
        "tuple2 = (4, 5, 6)\n",
        "combined = tuple1 + tuple2\n",
        "\n",
        "combined[-1]\n",
        "\n",
        "combined[-5:]\n",
        "\n",
        "combined[::2]\n",
        "\n",
        "\n",
        "# Find index of an element using index()\n",
        "# find is not avaiable in tuple and list\n",
        "print(fruits.index(\"banana\"))\n",
        "print(fruits.find(\"banana\"))  # not present\n",
        "\n",
        "# Count occurrences\n",
        "print(fruits.count(\"apple\"))\n",
        "\n",
        "# Slicing\n",
        "numbers = (0, 1, 2, 3, 4, 5, 6, 7, 8, 9)\n",
        "print(numbers[2:5])  # Elements from index 2 to 4\n",
        "print(numbers[::-1]) # Reverse the tuple\n",
        "\n",
        "# check elem present in tuple?\n",
        "t1=(0, 1, 2, 3, 4, 5, 6, 7, 8, 9)\n",
        "value=3\n",
        "if value in t1:\n",
        "    print(f'{value} is present')\n",
        "else:\n",
        "    print(f'{value} is not present')\n",
        "\n",
        "# min() find min ele of tuple\n",
        "t1=(0, 1, 2, 3, 4, 5, 6, 7, 8, 9)\n",
        "min(t1)\n",
        "\n",
        "# max() find max ele of tuple\n",
        "max(t1)\n",
        "\n",
        "# sum() find sum of tuple ele\n",
        "sum(t1)\n",
        "\n",
        "# Converting Between Lists and Tuples\n",
        "# Convert a list to a tuple\n",
        "my_list = [1, 2, 3]\n",
        "my_tuple = tuple(my_list)\n",
        "print(my_tuple)\n",
        "\n",
        "# Convert a tuple to a list\n",
        "new_list = list(my_tuple)\n",
        "print(new_list)\n",
        "\n",
        "\n",
        "List:\n",
        "    1. []\n",
        "    2. Mutable\n",
        "    3. Duplicates allowed\n",
        "    4. Ordered\n",
        "    5. Heterogenous(int, float)\n",
        "    6. Lists are slower\n",
        "    7. Less memory efficient\n",
        "    8. more functionality in list\n",
        "\n",
        "Tuple:\n",
        "    1. ()\n",
        "    2. Immutable\n",
        "    3. Duplicates allowed\n",
        "    4. Orderd\n",
        "    5. Comma seperated\n",
        "    6. Faster than list\n",
        "    7. Less functionality than list\n",
        "    8. More memory efficient\n",
        "    9. Fixed length\n",
        "\n",
        "\n"
      ],
      "metadata": {
        "id": "g1x8huA726RH"
      },
      "execution_count": null,
      "outputs": []
    },
    {
      "cell_type": "code",
      "source": [],
      "metadata": {
        "id": "lRQix-Wg26TW"
      },
      "execution_count": null,
      "outputs": []
    },
    {
      "cell_type": "code",
      "source": [],
      "metadata": {
        "id": "MZj_TzhM26Wr"
      },
      "execution_count": null,
      "outputs": []
    },
    {
      "cell_type": "code",
      "source": [],
      "metadata": {
        "id": "wGB0pWCH2owA"
      },
      "execution_count": null,
      "outputs": []
    },
    {
      "cell_type": "code",
      "source": [],
      "metadata": {
        "id": "NwJCCpYs2ox5"
      },
      "execution_count": null,
      "outputs": []
    },
    {
      "cell_type": "code",
      "source": [],
      "metadata": {
        "id": "XlxTVlV92o1h"
      },
      "execution_count": null,
      "outputs": []
    },
    {
      "cell_type": "code",
      "source": [],
      "metadata": {
        "id": "nhlqAOuD2o3u"
      },
      "execution_count": null,
      "outputs": []
    },
    {
      "cell_type": "code",
      "source": [],
      "metadata": {
        "id": "ID_UNwop2o6t"
      },
      "execution_count": null,
      "outputs": []
    },
    {
      "cell_type": "code",
      "source": [],
      "metadata": {
        "id": "sWn7vBkr2o9J"
      },
      "execution_count": null,
      "outputs": []
    },
    {
      "cell_type": "code",
      "source": [],
      "metadata": {
        "id": "FkFkMQ7E2pAb"
      },
      "execution_count": null,
      "outputs": []
    },
    {
      "cell_type": "code",
      "source": [],
      "metadata": {
        "id": "LH44taNM2pCi"
      },
      "execution_count": null,
      "outputs": []
    },
    {
      "cell_type": "code",
      "source": [],
      "metadata": {
        "id": "9cwwcl1k2pEg"
      },
      "execution_count": null,
      "outputs": []
    },
    {
      "cell_type": "code",
      "source": [],
      "metadata": {
        "id": "Fgfp7vZT2pG2"
      },
      "execution_count": null,
      "outputs": []
    },
    {
      "cell_type": "code",
      "source": [],
      "metadata": {
        "id": "gJfgALq62pJZ"
      },
      "execution_count": null,
      "outputs": []
    },
    {
      "cell_type": "code",
      "source": [],
      "metadata": {
        "id": "lP4S-lFv2pMh"
      },
      "execution_count": null,
      "outputs": []
    }
  ]
}