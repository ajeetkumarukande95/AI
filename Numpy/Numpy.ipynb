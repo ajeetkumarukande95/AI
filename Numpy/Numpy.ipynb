{
  "nbformat": 4,
  "nbformat_minor": 0,
  "metadata": {
    "colab": {
      "provenance": []
    },
    "kernelspec": {
      "name": "python3",
      "display_name": "Python 3"
    },
    "language_info": {
      "name": "python"
    }
  },
  "cells": [
    {
      "cell_type": "markdown",
      "source": [
        "# Numpy\n",
        "## Numpy >> Numerical Python\n",
        "\n",
        "### Definition:\n",
        "NumPy is a powerful Python library used for numerical computing. It provides support for large multidimensional arrays and matrices, along with a collection of mathematical functions to operate on these arrays.\n",
        "\n",
        "### Applications:\n",
        "1. **Linear Algebra**: Perform matrix operations like dot product, matrix multiplication, and inversion.\n",
        "2. **Statistics**: Calculate statistical metrics like mean, mode, median, standard deviation, and variance.\n",
        "3. **Probability**: Simulate random experiments and probability distributions.\n",
        "4. **Image Processing**: Manipulate pixel data for image transformations and analysis.\n",
        "5. **Trigonometry**: Work with trigonometric functions such as sin, cos, tan, etc.\n",
        "6. **Random Number Generation**: Generate random samples from different distributions.\n",
        "7. **Logarithmic Functions**: Perform logarithmic and exponential operations efficiently.\n",
        "\n",
        "### Key Features:\n",
        "- **Homogeneous Data Types**: All elements in a NumPy array must be of the same data type.\n",
        "- **ndarray**: NumPy's n-dimensional array object supports 0D (scalars), 1D (vectors), 2D (matrices), and nD arrays.\n",
        "- **Speed**: NumPy arrays are faster and more memory-efficient than Python lists due to their implementation in C and C++.\n",
        "- **Flexibility**: Arrays can be created from Python lists or tuples and offer powerful tools for reshaping, slicing, and broadcasting.\n",
        "\n"
      ],
      "metadata": {
        "id": "09S_vX1ZUQBw"
      }
    },
    {
      "cell_type": "markdown",
      "source": [
        "# Understanding NumPy: A Comprehensive Guide\n",
        "\n",
        "NumPy (Numerical Python) is a fundamental library for numerical computations in Python.\n",
        "\n",
        "---\n",
        "\n",
        "## 1. Creating Arrays\n",
        "\n",
        "- `np.array()`  \n",
        "  Creates an array from lists or tuples.\n",
        "\n",
        "- `np.zeros()`  \n",
        "  Creates an array filled with zeros.\n",
        "\n",
        "- `np.ones()`  \n",
        "  Creates an array filled with ones.\n",
        "\n",
        "- `np.empty()`  \n",
        "  Creates an empty array with uninitialized values.\n",
        "\n",
        "- `np.full()`  \n",
        "  Creates an array filled with a specified value.\n",
        "\n",
        "- `np.arange()`  \n",
        "  Creates an array with evenly spaced values within a range.\n",
        "\n",
        "- `np.linspace()`  \n",
        "  Creates an array with evenly spaced numbers over a specified interval.\n",
        "\n",
        "- `np.eye()`  \n",
        "  Creates an identity matrix.\n",
        "\n",
        "- `np.random.rand()`  \n",
        "  Generates an array of random values from a uniform distribution.\n",
        "\n",
        "- `np.random.randn()`  \n",
        "  Generates an array of random values from a standard normal distribution.\n",
        "\n",
        "- `np.random.randint()`  \n",
        "  Generates an array of random integers within a range.\n",
        "\n",
        "- `np.random.choice()`  \n",
        "  Randomly selects elements from an array.\n",
        "\n",
        "- `np.fromfunction()`  \n",
        "  Constructs an array using a function.\n",
        "\n",
        "---\n",
        "\n",
        "## 2. Array Attributes and Properties\n",
        "\n",
        "- `array.shape`  \n",
        "  Returns the shape of the array.\n",
        "\n",
        "- `array.size`  \n",
        "  Returns the total number of elements in the array.\n",
        "\n",
        "- `array.ndim`  \n",
        "  Returns the number of dimensions (axes) of the array.\n",
        "\n",
        "- `array.dtype`  \n",
        "  Returns the data type of array elements.\n",
        "\n",
        "- `array.itemsize`  \n",
        "  Returns the size in bytes of each element in the array.\n",
        "\n",
        "- `array.nbytes`  \n",
        "  Returns the total memory consumed by the array in bytes.\n",
        "\n",
        "- `array.T`  \n",
        "  Returns the transposed array.\n",
        "\n",
        "- `np.amin()`  \n",
        "  Returns the minimum value of the array.\n",
        "\n",
        "- `np.amax()`  \n",
        "  Returns the maximum value of the array.\n",
        "\n",
        "- `np.ptp()`  \n",
        "  Returns the range (max - min) of the array.\n",
        "\n",
        "---\n",
        "\n",
        "## 3. Indexing and Slicing\n",
        "\n",
        "- `array[index]`  \n",
        "  Accesses an element at the specified index.\n",
        "\n",
        "- `array[start:stop]`  \n",
        "  Slices an array from start to stop (exclusive).\n",
        "\n",
        "- `array[start:stop:step]`  \n",
        "  Slices an array with a specific step size.\n",
        "\n",
        "- `array[..., index]`  \n",
        "  Accesses elements in multi-dimensional arrays.\n",
        "\n",
        "- `array[:, 1]`  \n",
        "  Accesses a specific column in a 2D array.\n",
        "\n",
        "- `np.where()`  \n",
        "  Returns the indices of elements that satisfy a condition.\n",
        "\n",
        "- `np.take()`  \n",
        "  Extracts elements along a specified axis.\n",
        "\n",
        "- `np.put()`  \n",
        "  Replaces specified elements in an array.\n",
        "\n",
        "---\n",
        "\n",
        "## 4. Reshaping and Modifying Arrays\n",
        "\n",
        "- `np.reshape()`  \n",
        "  Changes the shape of an array without altering its data.\n",
        "\n",
        "- `array.flatten()`  \n",
        "  Flattens a multi-dimensional array into a 1D array.\n",
        "\n",
        "- `array.ravel()`  \n",
        "  Returns a flattened array view (no data copy).\n",
        "\n",
        "- `np.expand_dims()`  \n",
        "  Expands the shape of an array by adding a new axis.\n",
        "\n",
        "- `np.squeeze()`  \n",
        "  Removes axes of size 1 from the shape of an array.\n",
        "\n",
        "- `np.concatenate()`  \n",
        "  Joins arrays along an existing axis.\n",
        "\n",
        "- `np.stack()`  \n",
        "  Stacks arrays along a new axis.\n",
        "\n",
        "- `np.hstack()`  \n",
        "  Stacks arrays horizontally.\n",
        "\n",
        "- `np.vstack()`  \n",
        "  Stacks arrays vertically.\n",
        "\n",
        "- `np.split()`  \n",
        "  Splits an array into multiple sub-arrays.\n",
        "\n",
        "---\n",
        "\n",
        "## 5. Mathematical Operations\n",
        "\n",
        "- `np.add()`  \n",
        "  Element-wise addition.\n",
        "\n",
        "- `np.subtract()`  \n",
        "  Element-wise subtraction.\n",
        "\n",
        "- `np.multiply()`  \n",
        "  Element-wise multiplication.\n",
        "\n",
        "- `np.divide()`  \n",
        "  Element-wise division.\n",
        "\n",
        "- `np.power()`  \n",
        "  Raises elements to a power.\n",
        "\n",
        "- `np.sqrt()`  \n",
        "  Computes the square root of each element.\n",
        "\n",
        "- `np.log()`  \n",
        "  Computes the natural logarithm of each element.\n",
        "\n",
        "- `np.exp()`  \n",
        "  Computes the exponential of each element.\n",
        "\n",
        "- `np.sum()`  \n",
        "  Computes the sum of elements along an axis.\n",
        "\n",
        "- `np.prod()`  \n",
        "  Computes the product of elements along an axis.\n",
        "\n",
        "- `np.mean()`  \n",
        "  Computes the mean of elements along an axis.\n",
        "\n",
        "- `np.std()`  \n",
        "  Computes the standard deviation.\n",
        "\n",
        "- `np.var()`  \n",
        "  Computes the variance.\n",
        "\n",
        "- `np.cumsum()`  \n",
        "  Computes the cumulative sum of elements.\n",
        "\n",
        "- `np.cumprod()`  \n",
        "  Computes the cumulative product of elements.\n",
        "\n",
        "---\n",
        "\n",
        "## 6. Logical Operations\n",
        "\n",
        "- `np.all()`  \n",
        "  Tests whether all elements evaluate to `True`.\n",
        "\n",
        "- `np.any()`  \n",
        "  Tests whether any element evaluates to `True`.\n",
        "\n",
        "- `np.logical_and()`  \n",
        "  Computes element-wise logical AND.\n",
        "\n",
        "- `np.logical_or()`  \n",
        "  Computes element-wise logical OR.\n",
        "\n",
        "- `np.logical_not()`  \n",
        "  Computes element-wise logical NOT.\n",
        "\n",
        "- `np.logical_xor()`  \n",
        "  Computes element-wise logical XOR.\n",
        "\n",
        "- `np.isclose()`  \n",
        "  Tests whether two arrays are element-wise equal within a tolerance.\n",
        "\n",
        "- `np.array_equal()`  \n",
        "  Checks if two arrays are element-wise equal.\n",
        "\n",
        "---\n",
        "\n",
        "## 7. Linear Algebra Operations\n",
        "\n",
        "- `np.dot()`  \n",
        "  Computes the dot product of two arrays.\n",
        "\n",
        "- `np.matmul()`  \n",
        "  Performs matrix multiplication.\n",
        "\n",
        "- `np.linalg.inv()`  \n",
        "  Computes the inverse of a square matrix.\n",
        "\n",
        "- `np.linalg.det()`  \n",
        "  Computes the determinant of a square matrix.\n",
        "\n",
        "- `np.linalg.eig()`  \n",
        "  Computes the eigenvalues and eigenvectors.\n",
        "\n",
        "- `np.linalg.svd()`  \n",
        "  Performs singular value decomposition (SVD).\n",
        "\n",
        "- `np.linalg.norm()`  \n",
        "  Computes the norm of a vector or matrix.\n",
        "\n",
        "- `np.linalg.solve()`  \n",
        "  Solves a linear matrix equation.\n",
        "\n",
        "- `np.trace()`  \n",
        "  Computes the sum of diagonal elements of a matrix.\n",
        "\n",
        "---\n",
        "\n",
        "## 8. Broadcasting and Vectorization\n",
        "\n",
        "- `array + scalar`  \n",
        "  Adds a scalar to each element (broadcasting).\n",
        "\n",
        "- `array * scalar`  \n",
        "  Multiplies each element by a scalar.\n",
        "\n",
        "- `np.vectorize()`  \n",
        "  Applies a function element-wise on arrays.\n",
        "\n",
        "---\n",
        "\n",
        "## 9. Sorting and Searching\n",
        "\n",
        "- `np.sort()`  \n",
        "  Sorts an array along a specified axis.\n",
        "\n",
        "- `np.argsort()`  \n",
        "  Returns the indices of sorted elements.\n",
        "\n",
        "- `np.argmin()`  \n",
        "  Returns the index of the minimum value.\n",
        "\n",
        "- `np.argmax()`  \n",
        "  Returns the index of the maximum value.\n",
        "\n",
        "- `np.searchsorted()`  \n",
        "  Finds indices where elements should be inserted to maintain order.\n",
        "\n",
        "---\n",
        "\n",
        "## 10. Random Functions\n",
        "\n",
        "- `np.random.seed()`  \n",
        "  Sets the seed for reproducibility.\n",
        "\n",
        "- `np.random.rand()`  \n",
        "  Generates random values from a uniform distribution.\n",
        "\n",
        "- `np.random.randn()`  \n",
        "  Generates random values from a normal distribution.\n",
        "\n",
        "- `np.random.randint()`  \n",
        "  Generates random integers within a specified range.\n",
        "\n",
        "- `np.random.permutation()`  \n",
        "  Randomly permutes a sequence.\n",
        "\n",
        "- `np.random.shuffle()`  \n",
        "  Shuffles an array in place.\n",
        "\n",
        "---\n",
        "\n",
        "## 11. File I/O Operations\n",
        "\n",
        "- `np.save()`  \n",
        "  Saves an array to a binary file.\n",
        "\n",
        "- `np.load()`  \n",
        "  Loads an array from a binary file.\n",
        "\n",
        "- `np.savetxt()`  \n",
        "  Saves an array to a text file.\n",
        "\n",
        "- `np.loadtxt()`  \n",
        "  Loads data from a text file into an array.\n",
        "\n",
        "- `np.genfromtxt()`  \n",
        "  Loads data from a text file, with missing values handled.\n",
        "\n",
        "- `np.fromfile()`  \n",
        "  Reads data from a binary file into an array.\n"
      ],
      "metadata": {
        "id": "D5ANoZotHGpW"
      }
    },
    {
      "cell_type": "code",
      "source": [
        "import numpy as np"
      ],
      "metadata": {
        "id": "mI83nos7G4ny"
      },
      "execution_count": 2,
      "outputs": []
    },
    {
      "cell_type": "markdown",
      "source": [
        "# 1. Creating Arrays"
      ],
      "metadata": {
        "id": "4Xf212DNINbU"
      }
    },
    {
      "cell_type": "code",
      "source": [
        "arr1 = np.array([1, 2, 3])                    # Create array from list\n",
        "arr1"
      ],
      "metadata": {
        "colab": {
          "base_uri": "https://localhost:8080/"
        },
        "id": "kUDLPC8DIJuN",
        "outputId": "ff01306a-4cb5-43b7-cefd-08792aa0d68a"
      },
      "execution_count": 3,
      "outputs": [
        {
          "output_type": "execute_result",
          "data": {
            "text/plain": [
              "array([1, 2, 3])"
            ]
          },
          "metadata": {},
          "execution_count": 3
        }
      ]
    },
    {
      "cell_type": "code",
      "source": [
        "zeros = np.zeros((2, 3))                      # Array of zeros\n",
        "zeros"
      ],
      "metadata": {
        "colab": {
          "base_uri": "https://localhost:8080/"
        },
        "id": "280WMmrlIJw1",
        "outputId": "3e3059c8-1a5e-4c57-f704-1a6547eefe5f"
      },
      "execution_count": 4,
      "outputs": [
        {
          "output_type": "execute_result",
          "data": {
            "text/plain": [
              "array([[0., 0., 0.],\n",
              "       [0., 0., 0.]])"
            ]
          },
          "metadata": {},
          "execution_count": 4
        }
      ]
    },
    {
      "cell_type": "code",
      "source": [
        "ones = np.ones((3, 3))                        # Array of ones\n",
        "ones"
      ],
      "metadata": {
        "colab": {
          "base_uri": "https://localhost:8080/"
        },
        "id": "OWvQzoBNIRze",
        "outputId": "ed547fa3-cbc7-49f2-ba19-890b4e309c27"
      },
      "execution_count": 5,
      "outputs": [
        {
          "output_type": "execute_result",
          "data": {
            "text/plain": [
              "array([[1., 1., 1.],\n",
              "       [1., 1., 1.],\n",
              "       [1., 1., 1.]])"
            ]
          },
          "metadata": {},
          "execution_count": 5
        }
      ]
    },
    {
      "cell_type": "code",
      "source": [
        "empty = np.empty((2, 2))                      # Empty array\n",
        "empty"
      ],
      "metadata": {
        "colab": {
          "base_uri": "https://localhost:8080/"
        },
        "id": "5NWDXfkYIR24",
        "outputId": "6783f48f-a412-4fe0-9371-3608bff7b0ba"
      },
      "execution_count": 6,
      "outputs": [
        {
          "output_type": "execute_result",
          "data": {
            "text/plain": [
              "array([[5.03244676e-310, 0.00000000e+000],\n",
              "       [5.03303860e-310, 6.71108834e-310]])"
            ]
          },
          "metadata": {},
          "execution_count": 6
        }
      ]
    },
    {
      "cell_type": "code",
      "source": [
        "full = np.full((2, 2), 7)                     # Array filled with 7\n",
        "full"
      ],
      "metadata": {
        "colab": {
          "base_uri": "https://localhost:8080/"
        },
        "id": "IifJ0OGwIYW3",
        "outputId": "2c8da022-b7c6-403a-91d6-9ad06c97d484"
      },
      "execution_count": 7,
      "outputs": [
        {
          "output_type": "execute_result",
          "data": {
            "text/plain": [
              "array([[7, 7],\n",
              "       [7, 7]])"
            ]
          },
          "metadata": {},
          "execution_count": 7
        }
      ]
    },
    {
      "cell_type": "code",
      "source": [
        "arange = np.arange(0, 10, 2)                  # Evenly spaced values\n",
        "arange"
      ],
      "metadata": {
        "colab": {
          "base_uri": "https://localhost:8080/"
        },
        "id": "XoL7ycbQIYgX",
        "outputId": "b95ea255-0ca4-44e2-f910-d4eeecdb13eb"
      },
      "execution_count": 8,
      "outputs": [
        {
          "output_type": "execute_result",
          "data": {
            "text/plain": [
              "array([0, 2, 4, 6, 8])"
            ]
          },
          "metadata": {},
          "execution_count": 8
        }
      ]
    },
    {
      "cell_type": "code",
      "source": [
        "linspace = np.linspace(0, 1, 5)               # Evenly spaced numbers\n",
        "linspace"
      ],
      "metadata": {
        "colab": {
          "base_uri": "https://localhost:8080/"
        },
        "id": "-hEg0kQCIYjg",
        "outputId": "1f8a846f-a8e5-4766-ba15-72f472529605"
      },
      "execution_count": 9,
      "outputs": [
        {
          "output_type": "execute_result",
          "data": {
            "text/plain": [
              "array([0.  , 0.25, 0.5 , 0.75, 1.  ])"
            ]
          },
          "metadata": {},
          "execution_count": 9
        }
      ]
    },
    {
      "cell_type": "code",
      "source": [
        "identity = np.eye(3)                          # Identity matrix\n",
        "identity"
      ],
      "metadata": {
        "colab": {
          "base_uri": "https://localhost:8080/"
        },
        "id": "ly2Q6aWUIsPi",
        "outputId": "41fe9fc9-d4e6-437b-9f30-dd3e720c5c5a"
      },
      "execution_count": 10,
      "outputs": [
        {
          "output_type": "execute_result",
          "data": {
            "text/plain": [
              "array([[1., 0., 0.],\n",
              "       [0., 1., 0.],\n",
              "       [0., 0., 1.]])"
            ]
          },
          "metadata": {},
          "execution_count": 10
        }
      ]
    },
    {
      "cell_type": "code",
      "source": [
        "rand_uniform = np.random.rand(2, 3)           # Random uniform distribution\n",
        "rand_uniform"
      ],
      "metadata": {
        "colab": {
          "base_uri": "https://localhost:8080/"
        },
        "id": "IxY5vIilIsd4",
        "outputId": "4f8b9d8d-8729-446b-dcbd-7f0e18e42870"
      },
      "execution_count": 11,
      "outputs": [
        {
          "output_type": "execute_result",
          "data": {
            "text/plain": [
              "array([[0.05376876, 0.65596057, 0.942851  ],\n",
              "       [0.42914073, 0.93055255, 0.73759403]])"
            ]
          },
          "metadata": {},
          "execution_count": 11
        }
      ]
    },
    {
      "cell_type": "code",
      "source": [
        "rand_normal = np.random.randn(2, 3)           # Random normal distribution\n",
        "rand_normal"
      ],
      "metadata": {
        "colab": {
          "base_uri": "https://localhost:8080/"
        },
        "id": "rKYcvKW0IskV",
        "outputId": "db417886-0188-4a08-861d-94851aa199d8"
      },
      "execution_count": 12,
      "outputs": [
        {
          "output_type": "execute_result",
          "data": {
            "text/plain": [
              "array([[ 1.24395188,  0.60815691, -0.24052462],\n",
              "       [-1.00328485, -0.64750265,  0.40483414]])"
            ]
          },
          "metadata": {},
          "execution_count": 12
        }
      ]
    },
    {
      "cell_type": "code",
      "source": [
        "rand_int = np.random.randint(0, 10, size=5)   # Random integers\n",
        "rand_int"
      ],
      "metadata": {
        "colab": {
          "base_uri": "https://localhost:8080/"
        },
        "id": "843aAAiaIYnb",
        "outputId": "33f8e691-860b-44b0-b973-26e6880de4bd"
      },
      "execution_count": 13,
      "outputs": [
        {
          "output_type": "execute_result",
          "data": {
            "text/plain": [
              "array([7, 0, 9, 8, 8])"
            ]
          },
          "metadata": {},
          "execution_count": 13
        }
      ]
    },
    {
      "cell_type": "code",
      "source": [
        "rand_choice = np.random.choice([1, 2, 3])     # Random choice from list\n",
        "rand_choice"
      ],
      "metadata": {
        "colab": {
          "base_uri": "https://localhost:8080/"
        },
        "id": "gJ5qtLWMI7DU",
        "outputId": "a1d806ce-fe5e-4f10-8c6f-3ef9a3f6f960"
      },
      "execution_count": 14,
      "outputs": [
        {
          "output_type": "execute_result",
          "data": {
            "text/plain": [
              "2"
            ]
          },
          "metadata": {},
          "execution_count": 14
        }
      ]
    },
    {
      "cell_type": "code",
      "source": [
        "from_func = np.fromfunction(lambda i, j: i + j, (3, 3))  # From function\n",
        "from_func"
      ],
      "metadata": {
        "colab": {
          "base_uri": "https://localhost:8080/"
        },
        "id": "LOwM-qjAI7Fu",
        "outputId": "f3f7471f-a3e8-42aa-8857-d3732c9a238d"
      },
      "execution_count": 15,
      "outputs": [
        {
          "output_type": "execute_result",
          "data": {
            "text/plain": [
              "array([[0., 1., 2.],\n",
              "       [1., 2., 3.],\n",
              "       [2., 3., 4.]])"
            ]
          },
          "metadata": {},
          "execution_count": 15
        }
      ]
    },
    {
      "cell_type": "markdown",
      "source": [
        "# 2. Array Attributes"
      ],
      "metadata": {
        "id": "ws6L-8pYJTud"
      }
    },
    {
      "cell_type": "code",
      "source": [
        "shape = arr1.shape                            # Shape of array\n",
        "shape"
      ],
      "metadata": {
        "colab": {
          "base_uri": "https://localhost:8080/"
        },
        "id": "h4G49i3cI7Nf",
        "outputId": "ee72ee00-a31c-4586-db03-ef53865ecb92"
      },
      "execution_count": 16,
      "outputs": [
        {
          "output_type": "execute_result",
          "data": {
            "text/plain": [
              "(3,)"
            ]
          },
          "metadata": {},
          "execution_count": 16
        }
      ]
    },
    {
      "cell_type": "code",
      "source": [
        "size = arr1.size                              # Total elements\n",
        "size"
      ],
      "metadata": {
        "colab": {
          "base_uri": "https://localhost:8080/"
        },
        "id": "jf5hXvtNJSvh",
        "outputId": "63c89a4a-eaf1-498f-bbb9-436f4daebd36"
      },
      "execution_count": 17,
      "outputs": [
        {
          "output_type": "execute_result",
          "data": {
            "text/plain": [
              "3"
            ]
          },
          "metadata": {},
          "execution_count": 17
        }
      ]
    },
    {
      "cell_type": "code",
      "source": [
        "ndim = arr1.ndim                              # Number of dimensions\n",
        "ndim"
      ],
      "metadata": {
        "colab": {
          "base_uri": "https://localhost:8080/"
        },
        "id": "-6uDlkjAJSxu",
        "outputId": "05769c81-401f-412d-b176-fd53259dfce5"
      },
      "execution_count": 18,
      "outputs": [
        {
          "output_type": "execute_result",
          "data": {
            "text/plain": [
              "1"
            ]
          },
          "metadata": {},
          "execution_count": 18
        }
      ]
    },
    {
      "cell_type": "code",
      "source": [
        "dtype = arr1.dtype                            # Data type\n",
        "dtype"
      ],
      "metadata": {
        "colab": {
          "base_uri": "https://localhost:8080/"
        },
        "id": "dioMrJMnJS0z",
        "outputId": "128a2dd7-fa84-4e38-f74e-575cdd5349e3"
      },
      "execution_count": 19,
      "outputs": [
        {
          "output_type": "execute_result",
          "data": {
            "text/plain": [
              "dtype('int64')"
            ]
          },
          "metadata": {},
          "execution_count": 19
        }
      ]
    },
    {
      "cell_type": "code",
      "source": [
        "itemsize = arr1.itemsize                      # Size of one element in bytes\n",
        "itemsize"
      ],
      "metadata": {
        "colab": {
          "base_uri": "https://localhost:8080/"
        },
        "id": "NcDBkp9rJS3j",
        "outputId": "7c0ca294-235f-4dbd-f704-7f5df98c99f5"
      },
      "execution_count": 20,
      "outputs": [
        {
          "output_type": "execute_result",
          "data": {
            "text/plain": [
              "8"
            ]
          },
          "metadata": {},
          "execution_count": 20
        }
      ]
    },
    {
      "cell_type": "code",
      "source": [
        "nbytes = arr1.nbytes                          # Total memory in bytes\n",
        "nbytes"
      ],
      "metadata": {
        "colab": {
          "base_uri": "https://localhost:8080/"
        },
        "id": "eas4n4Y4IEI1",
        "outputId": "100f9dc4-eb3e-4bcb-c662-190a8f9e23ba"
      },
      "execution_count": 21,
      "outputs": [
        {
          "output_type": "execute_result",
          "data": {
            "text/plain": [
              "24"
            ]
          },
          "metadata": {},
          "execution_count": 21
        }
      ]
    },
    {
      "cell_type": "code",
      "source": [
        "transpose = arr1.T                            # Transpose\n",
        "transpose"
      ],
      "metadata": {
        "colab": {
          "base_uri": "https://localhost:8080/"
        },
        "id": "NaNlOOTVG4qQ",
        "outputId": "ad3a9033-7e2b-4237-9f3b-63112fc4ad0f"
      },
      "execution_count": 22,
      "outputs": [
        {
          "output_type": "execute_result",
          "data": {
            "text/plain": [
              "array([1, 2, 3])"
            ]
          },
          "metadata": {},
          "execution_count": 22
        }
      ]
    },
    {
      "cell_type": "code",
      "source": [
        "amin = np.amin(arr1)                          # Minimum value\n",
        "amin"
      ],
      "metadata": {
        "colab": {
          "base_uri": "https://localhost:8080/"
        },
        "id": "IDyl9-CSJwyM",
        "outputId": "bf11b84b-886d-4c40-8b3e-e72706933bb5"
      },
      "execution_count": 23,
      "outputs": [
        {
          "output_type": "execute_result",
          "data": {
            "text/plain": [
              "1"
            ]
          },
          "metadata": {},
          "execution_count": 23
        }
      ]
    },
    {
      "cell_type": "code",
      "source": [
        "amax = np.amax(arr1)                          # Maximum value\n",
        "amax"
      ],
      "metadata": {
        "colab": {
          "base_uri": "https://localhost:8080/"
        },
        "id": "5NX7i4ysJw2C",
        "outputId": "4dfced79-67ab-4e30-93d0-d279d31e4b06"
      },
      "execution_count": 24,
      "outputs": [
        {
          "output_type": "execute_result",
          "data": {
            "text/plain": [
              "3"
            ]
          },
          "metadata": {},
          "execution_count": 24
        }
      ]
    },
    {
      "cell_type": "code",
      "source": [
        "range_ptp = np.ptp(arr1)                      # Range (max - min)\n",
        "range_ptp"
      ],
      "metadata": {
        "colab": {
          "base_uri": "https://localhost:8080/"
        },
        "id": "MUUzJ6S6Jw7U",
        "outputId": "02924ab4-7c0b-4102-e2c9-c8ea091c875a"
      },
      "execution_count": 25,
      "outputs": [
        {
          "output_type": "execute_result",
          "data": {
            "text/plain": [
              "2"
            ]
          },
          "metadata": {},
          "execution_count": 25
        }
      ]
    },
    {
      "cell_type": "markdown",
      "source": [
        "# 3. Indexing and Slicing"
      ],
      "metadata": {
        "id": "zloOW4BVKM6d"
      }
    },
    {
      "cell_type": "code",
      "source": [
        "element = arr1[0]                             # Access element\n",
        "element"
      ],
      "metadata": {
        "colab": {
          "base_uri": "https://localhost:8080/"
        },
        "id": "HqOKxuyMKHIO",
        "outputId": "fb060076-a6cd-4b06-8c3e-bea92cc37c67"
      },
      "execution_count": 26,
      "outputs": [
        {
          "output_type": "execute_result",
          "data": {
            "text/plain": [
              "1"
            ]
          },
          "metadata": {},
          "execution_count": 26
        }
      ]
    },
    {
      "cell_type": "code",
      "source": [
        "slice_array = arr1[0:2]                       # Slice array\n",
        "slice_array"
      ],
      "metadata": {
        "colab": {
          "base_uri": "https://localhost:8080/"
        },
        "id": "bBGQSGmAKHKr",
        "outputId": "9c191f72-7a9f-4c16-c6d0-1447befe8ca4"
      },
      "execution_count": 27,
      "outputs": [
        {
          "output_type": "execute_result",
          "data": {
            "text/plain": [
              "array([1, 2])"
            ]
          },
          "metadata": {},
          "execution_count": 27
        }
      ]
    },
    {
      "cell_type": "code",
      "source": [
        "step_slice = arr1[0:3:2]                      # Slice with step\n",
        "step_slice"
      ],
      "metadata": {
        "colab": {
          "base_uri": "https://localhost:8080/"
        },
        "id": "2LhknPNgKHNz",
        "outputId": "d3f1523d-c83d-4b00-8eb2-f6ae6ca1bba0"
      },
      "execution_count": 28,
      "outputs": [
        {
          "output_type": "execute_result",
          "data": {
            "text/plain": [
              "array([1, 3])"
            ]
          },
          "metadata": {},
          "execution_count": 28
        }
      ]
    },
    {
      "cell_type": "code",
      "source": [
        "multi_dim = np.array([[1, 2], [3, 4]])\n",
        "multi_dim"
      ],
      "metadata": {
        "colab": {
          "base_uri": "https://localhost:8080/"
        },
        "id": "AkEus8_VKVpA",
        "outputId": "d2558d99-2030-427b-ab49-f27bfb68c047"
      },
      "execution_count": 29,
      "outputs": [
        {
          "output_type": "execute_result",
          "data": {
            "text/plain": [
              "array([[1, 2],\n",
              "       [3, 4]])"
            ]
          },
          "metadata": {},
          "execution_count": 29
        }
      ]
    },
    {
      "cell_type": "code",
      "source": [
        "col = multi_dim[:, 1]                         # Access column\n",
        "col"
      ],
      "metadata": {
        "colab": {
          "base_uri": "https://localhost:8080/"
        },
        "id": "EcXsiKIMKVr5",
        "outputId": "a669bf84-6e36-4c16-f00e-2204d9120649"
      },
      "execution_count": 30,
      "outputs": [
        {
          "output_type": "execute_result",
          "data": {
            "text/plain": [
              "array([2, 4])"
            ]
          },
          "metadata": {},
          "execution_count": 30
        }
      ]
    },
    {
      "cell_type": "code",
      "source": [
        "condition = np.where(arr1 > 1)                # Where condition\n",
        "condition"
      ],
      "metadata": {
        "colab": {
          "base_uri": "https://localhost:8080/"
        },
        "id": "YaXuhabQKVwU",
        "outputId": "c7e142ff-f0f9-48d0-985c-c0a439833636"
      },
      "execution_count": 31,
      "outputs": [
        {
          "output_type": "execute_result",
          "data": {
            "text/plain": [
              "(array([1, 2]),)"
            ]
          },
          "metadata": {},
          "execution_count": 31
        }
      ]
    },
    {
      "cell_type": "code",
      "source": [
        "take = np.take(arr1, [0, 2])                  # Take elements\n",
        "take"
      ],
      "metadata": {
        "colab": {
          "base_uri": "https://localhost:8080/"
        },
        "id": "0t9LSonpKV0b",
        "outputId": "968fb6d2-0ee4-4f63-f6ac-527580bbf902"
      },
      "execution_count": 32,
      "outputs": [
        {
          "output_type": "execute_result",
          "data": {
            "text/plain": [
              "array([1, 3])"
            ]
          },
          "metadata": {},
          "execution_count": 32
        }
      ]
    },
    {
      "cell_type": "code",
      "source": [
        "put = np.put(arr1, [0], [-1])                 # Modify elements\n",
        "put"
      ],
      "metadata": {
        "id": "wXeao3h8KV34"
      },
      "execution_count": 33,
      "outputs": []
    },
    {
      "cell_type": "markdown",
      "source": [
        "# 4. Reshaping"
      ],
      "metadata": {
        "id": "rabjWQH_LDnL"
      }
    },
    {
      "cell_type": "code",
      "source": [
        "reshaped = np.reshape(arr1, (1, 3))           # Reshape array\n",
        "reshaped"
      ],
      "metadata": {
        "colab": {
          "base_uri": "https://localhost:8080/"
        },
        "id": "K1GtYLIfK7W7",
        "outputId": "e9345ca5-5e38-407a-e65f-d4cfc96f7eec"
      },
      "execution_count": 34,
      "outputs": [
        {
          "output_type": "execute_result",
          "data": {
            "text/plain": [
              "array([[-1,  2,  3]])"
            ]
          },
          "metadata": {},
          "execution_count": 34
        }
      ]
    },
    {
      "cell_type": "code",
      "source": [
        "flattened = arr1.flatten()                    # Flatten array\n",
        "flattened"
      ],
      "metadata": {
        "colab": {
          "base_uri": "https://localhost:8080/"
        },
        "id": "AszpvuQDK7rl",
        "outputId": "bf88d0e4-68ec-4995-f195-a86270fc555a"
      },
      "execution_count": 35,
      "outputs": [
        {
          "output_type": "execute_result",
          "data": {
            "text/plain": [
              "array([-1,  2,  3])"
            ]
          },
          "metadata": {},
          "execution_count": 35
        }
      ]
    },
    {
      "cell_type": "code",
      "source": [
        "ravelled = arr1.ravel()                       # Ravel array\n",
        "ravelled"
      ],
      "metadata": {
        "colab": {
          "base_uri": "https://localhost:8080/"
        },
        "id": "qafTf4VLK8TE",
        "outputId": "c545eb51-f0fe-47dc-9c49-5b071b2af6e1"
      },
      "execution_count": 36,
      "outputs": [
        {
          "output_type": "execute_result",
          "data": {
            "text/plain": [
              "array([-1,  2,  3])"
            ]
          },
          "metadata": {},
          "execution_count": 36
        }
      ]
    },
    {
      "cell_type": "code",
      "source": [
        "expanded = np.expand_dims(arr1, axis=0)       # Expand dims\n",
        "expanded"
      ],
      "metadata": {
        "colab": {
          "base_uri": "https://localhost:8080/"
        },
        "id": "Df2Py0SxK8WF",
        "outputId": "6cf4cbd1-39a9-4c5a-93c2-c68d64075adf"
      },
      "execution_count": 37,
      "outputs": [
        {
          "output_type": "execute_result",
          "data": {
            "text/plain": [
              "array([[-1,  2,  3]])"
            ]
          },
          "metadata": {},
          "execution_count": 37
        }
      ]
    },
    {
      "cell_type": "code",
      "source": [
        "squeezed = np.squeeze(expanded)               # Squeeze array\n",
        "squeezed"
      ],
      "metadata": {
        "colab": {
          "base_uri": "https://localhost:8080/"
        },
        "id": "8i7CwINvLYsy",
        "outputId": "fbb035c9-8eef-4940-d58f-2100e3832eab"
      },
      "execution_count": 38,
      "outputs": [
        {
          "output_type": "execute_result",
          "data": {
            "text/plain": [
              "array([-1,  2,  3])"
            ]
          },
          "metadata": {},
          "execution_count": 38
        }
      ]
    },
    {
      "cell_type": "code",
      "source": [
        "concat = np.concatenate((arr1, arr1))         # Concatenate\n",
        "concat"
      ],
      "metadata": {
        "colab": {
          "base_uri": "https://localhost:8080/"
        },
        "id": "w_dfdAp4LYxT",
        "outputId": "25494396-9d65-4b0d-af3e-6252e7bb071c"
      },
      "execution_count": 39,
      "outputs": [
        {
          "output_type": "execute_result",
          "data": {
            "text/plain": [
              "array([-1,  2,  3, -1,  2,  3])"
            ]
          },
          "metadata": {},
          "execution_count": 39
        }
      ]
    },
    {
      "cell_type": "code",
      "source": [
        "stacked = np.stack([arr1, arr1])              # Stack arrays\n",
        "stacked"
      ],
      "metadata": {
        "colab": {
          "base_uri": "https://localhost:8080/"
        },
        "id": "aDpU5H8pK8ba",
        "outputId": "caf67546-105c-413a-a2cc-4cc58fad6878"
      },
      "execution_count": 40,
      "outputs": [
        {
          "output_type": "execute_result",
          "data": {
            "text/plain": [
              "array([[-1,  2,  3],\n",
              "       [-1,  2,  3]])"
            ]
          },
          "metadata": {},
          "execution_count": 40
        }
      ]
    },
    {
      "cell_type": "code",
      "source": [
        "hstack = np.hstack([arr1, arr1])              # Horizontal stack\n",
        "hstack"
      ],
      "metadata": {
        "colab": {
          "base_uri": "https://localhost:8080/"
        },
        "id": "4jCkKjq4K85s",
        "outputId": "5e98f791-e990-4983-8126-d15eabde9e19"
      },
      "execution_count": 41,
      "outputs": [
        {
          "output_type": "execute_result",
          "data": {
            "text/plain": [
              "array([-1,  2,  3, -1,  2,  3])"
            ]
          },
          "metadata": {},
          "execution_count": 41
        }
      ]
    },
    {
      "cell_type": "code",
      "source": [
        "vstack = np.vstack([arr1, arr1])              # Vertical stack\n",
        "vstack\n"
      ],
      "metadata": {
        "colab": {
          "base_uri": "https://localhost:8080/"
        },
        "id": "WA66_Yr8K8-3",
        "outputId": "7c4d20b4-11c9-4ff0-cb70-bb97ebb54a3b"
      },
      "execution_count": 42,
      "outputs": [
        {
          "output_type": "execute_result",
          "data": {
            "text/plain": [
              "array([[-1,  2,  3],\n",
              "       [-1,  2,  3]])"
            ]
          },
          "metadata": {},
          "execution_count": 42
        }
      ]
    },
    {
      "cell_type": "code",
      "source": [
        "splitted = np.split(arr1, 3)                  # Split array\n",
        "splitted"
      ],
      "metadata": {
        "colab": {
          "base_uri": "https://localhost:8080/"
        },
        "id": "hvqQPkEyK9D7",
        "outputId": "9202f87d-6412-43ce-d13d-f69b4eec7994"
      },
      "execution_count": 43,
      "outputs": [
        {
          "output_type": "execute_result",
          "data": {
            "text/plain": [
              "[array([-1]), array([2]), array([3])]"
            ]
          },
          "metadata": {},
          "execution_count": 43
        }
      ]
    },
    {
      "cell_type": "markdown",
      "source": [
        "# 5. Mathematical Operations"
      ],
      "metadata": {
        "id": "C-GO5EpFMv8g"
      }
    },
    {
      "cell_type": "code",
      "source": [
        "added = np.add(arr1, arr1)                    # Element-wise addition\n",
        "added"
      ],
      "metadata": {
        "colab": {
          "base_uri": "https://localhost:8080/"
        },
        "id": "Ou9oJwk6MdNY",
        "outputId": "9f3083ef-1efd-4a48-ef44-7e149ba4d565"
      },
      "execution_count": 44,
      "outputs": [
        {
          "output_type": "execute_result",
          "data": {
            "text/plain": [
              "array([-2,  4,  6])"
            ]
          },
          "metadata": {},
          "execution_count": 44
        }
      ]
    },
    {
      "cell_type": "code",
      "source": [
        "subtracted = np.subtract(arr1, arr1)          # Element-wise subtraction\n",
        "subtracted"
      ],
      "metadata": {
        "colab": {
          "base_uri": "https://localhost:8080/"
        },
        "id": "2VaQS9ihMdbv",
        "outputId": "b84a8523-ba00-4b91-9d82-7223bfd8d2bf"
      },
      "execution_count": 45,
      "outputs": [
        {
          "output_type": "execute_result",
          "data": {
            "text/plain": [
              "array([0, 0, 0])"
            ]
          },
          "metadata": {},
          "execution_count": 45
        }
      ]
    },
    {
      "cell_type": "code",
      "source": [
        "multiplied = np.multiply(arr1, arr1)          # Element-wise multiplication\n",
        "multiplied"
      ],
      "metadata": {
        "colab": {
          "base_uri": "https://localhost:8080/"
        },
        "id": "b9UYayswM9zG",
        "outputId": "3ed424c6-a906-4e29-b045-1a210e8258e1"
      },
      "execution_count": 46,
      "outputs": [
        {
          "output_type": "execute_result",
          "data": {
            "text/plain": [
              "array([1, 4, 9])"
            ]
          },
          "metadata": {},
          "execution_count": 46
        }
      ]
    },
    {
      "cell_type": "code",
      "source": [
        "divided = np.divide(arr1, arr1 + 1)           # Element-wise division\n",
        "divided"
      ],
      "metadata": {
        "colab": {
          "base_uri": "https://localhost:8080/"
        },
        "id": "4psA-NBNM94R",
        "outputId": "20afec42-21a9-4563-d472-79b504d968f3"
      },
      "execution_count": 47,
      "outputs": [
        {
          "output_type": "stream",
          "name": "stderr",
          "text": [
            "<ipython-input-47-0e6886aef15a>:1: RuntimeWarning: divide by zero encountered in divide\n",
            "  divided = np.divide(arr1, arr1 + 1)           # Element-wise division\n"
          ]
        },
        {
          "output_type": "execute_result",
          "data": {
            "text/plain": [
              "array([      -inf, 0.66666667, 0.75      ])"
            ]
          },
          "metadata": {},
          "execution_count": 47
        }
      ]
    },
    {
      "cell_type": "code",
      "source": [
        "powered = np.power(arr1, 2)                   # Power\n",
        "powered"
      ],
      "metadata": {
        "colab": {
          "base_uri": "https://localhost:8080/"
        },
        "id": "6H8W4T1WM98z",
        "outputId": "8e6180b3-4324-4214-f69b-854c8364c64c"
      },
      "execution_count": 48,
      "outputs": [
        {
          "output_type": "execute_result",
          "data": {
            "text/plain": [
              "array([1, 4, 9])"
            ]
          },
          "metadata": {},
          "execution_count": 48
        }
      ]
    },
    {
      "cell_type": "code",
      "source": [
        "sqrted = np.sqrt(arr1 + 1)                    # Square root\n",
        "sqrted"
      ],
      "metadata": {
        "colab": {
          "base_uri": "https://localhost:8080/"
        },
        "id": "38_oUAULM-B6",
        "outputId": "95584b9e-d648-45ae-fbd5-17c542574b25"
      },
      "execution_count": 49,
      "outputs": [
        {
          "output_type": "execute_result",
          "data": {
            "text/plain": [
              "array([0.        , 1.73205081, 2.        ])"
            ]
          },
          "metadata": {},
          "execution_count": 49
        }
      ]
    },
    {
      "cell_type": "code",
      "source": [
        "logged = np.log(arr1 + 1)                     # Logarithm\n",
        "logged"
      ],
      "metadata": {
        "colab": {
          "base_uri": "https://localhost:8080/"
        },
        "id": "nr7kPW4tM-MG",
        "outputId": "a2bd4f0d-c70d-46ec-995a-28bd7a5046e5"
      },
      "execution_count": 50,
      "outputs": [
        {
          "output_type": "stream",
          "name": "stderr",
          "text": [
            "<ipython-input-50-f1b1a2b9eca4>:1: RuntimeWarning: divide by zero encountered in log\n",
            "  logged = np.log(arr1 + 1)                     # Logarithm\n"
          ]
        },
        {
          "output_type": "execute_result",
          "data": {
            "text/plain": [
              "array([      -inf, 1.09861229, 1.38629436])"
            ]
          },
          "metadata": {},
          "execution_count": 50
        }
      ]
    },
    {
      "cell_type": "code",
      "source": [
        "exponential = np.exp(arr1)                    # Exponential\n",
        "exponential"
      ],
      "metadata": {
        "colab": {
          "base_uri": "https://localhost:8080/"
        },
        "id": "dT43hBVYNXOs",
        "outputId": "b0f3b3db-bf55-4363-842b-c0696f056879"
      },
      "execution_count": 51,
      "outputs": [
        {
          "output_type": "execute_result",
          "data": {
            "text/plain": [
              "array([ 0.36787944,  7.3890561 , 20.08553692])"
            ]
          },
          "metadata": {},
          "execution_count": 51
        }
      ]
    },
    {
      "cell_type": "code",
      "source": [
        "summed = np.sum(arr1)                         # Sum\n",
        "summed"
      ],
      "metadata": {
        "colab": {
          "base_uri": "https://localhost:8080/"
        },
        "id": "0rxYpjx0NXRt",
        "outputId": "57a7b038-0b53-44bb-ed0d-bfc0241ab5cd"
      },
      "execution_count": 52,
      "outputs": [
        {
          "output_type": "execute_result",
          "data": {
            "text/plain": [
              "4"
            ]
          },
          "metadata": {},
          "execution_count": 52
        }
      ]
    },
    {
      "cell_type": "code",
      "source": [
        "product = np.prod(arr1)                       # Product\n",
        "product"
      ],
      "metadata": {
        "colab": {
          "base_uri": "https://localhost:8080/"
        },
        "id": "9GVQnFRUNXVf",
        "outputId": "90b52035-ed4b-4761-9f30-d4b17ab8934e"
      },
      "execution_count": 53,
      "outputs": [
        {
          "output_type": "execute_result",
          "data": {
            "text/plain": [
              "-6"
            ]
          },
          "metadata": {},
          "execution_count": 53
        }
      ]
    },
    {
      "cell_type": "code",
      "source": [
        "mean_val = np.mean(arr1)                      # Mean\n",
        "mean_val"
      ],
      "metadata": {
        "colab": {
          "base_uri": "https://localhost:8080/"
        },
        "id": "COn4RpxHNXZU",
        "outputId": "94434a32-477d-4d9e-f134-b6799fd106f9"
      },
      "execution_count": 54,
      "outputs": [
        {
          "output_type": "execute_result",
          "data": {
            "text/plain": [
              "1.3333333333333333"
            ]
          },
          "metadata": {},
          "execution_count": 54
        }
      ]
    },
    {
      "cell_type": "code",
      "source": [
        "std_dev = np.std(arr1)                        # Standard deviation\n",
        "std_dev"
      ],
      "metadata": {
        "colab": {
          "base_uri": "https://localhost:8080/"
        },
        "id": "dksxHTdgNXcb",
        "outputId": "c7bacd39-7968-4219-89d3-4128ab02f64d"
      },
      "execution_count": 55,
      "outputs": [
        {
          "output_type": "execute_result",
          "data": {
            "text/plain": [
              "1.699673171197595"
            ]
          },
          "metadata": {},
          "execution_count": 55
        }
      ]
    },
    {
      "cell_type": "code",
      "source": [
        "variance = np.var(arr1)                       # Variance\n",
        "variance"
      ],
      "metadata": {
        "colab": {
          "base_uri": "https://localhost:8080/"
        },
        "id": "Herg_m61NXfb",
        "outputId": "3f02457b-73af-410d-b54a-409e2432e530"
      },
      "execution_count": 56,
      "outputs": [
        {
          "output_type": "execute_result",
          "data": {
            "text/plain": [
              "2.888888888888889"
            ]
          },
          "metadata": {},
          "execution_count": 56
        }
      ]
    },
    {
      "cell_type": "code",
      "source": [
        "cumsum = np.cumsum(arr1)                      # Cumulative sum\n",
        "cumsum"
      ],
      "metadata": {
        "colab": {
          "base_uri": "https://localhost:8080/"
        },
        "id": "0zw20i_gNXiQ",
        "outputId": "5f6c7847-f8d4-4f58-8ea7-3ae73079cac1"
      },
      "execution_count": 57,
      "outputs": [
        {
          "output_type": "execute_result",
          "data": {
            "text/plain": [
              "array([-1,  1,  4])"
            ]
          },
          "metadata": {},
          "execution_count": 57
        }
      ]
    },
    {
      "cell_type": "code",
      "source": [
        "cumprod = np.cumprod(arr1)                    # Cumulative product\n",
        "cumprod"
      ],
      "metadata": {
        "colab": {
          "base_uri": "https://localhost:8080/"
        },
        "id": "Tkuzz_14NXlT",
        "outputId": "fd2206ff-7c6b-4615-b3de-94979a0e96a0"
      },
      "execution_count": 58,
      "outputs": [
        {
          "output_type": "execute_result",
          "data": {
            "text/plain": [
              "array([-1, -2, -6])"
            ]
          },
          "metadata": {},
          "execution_count": 58
        }
      ]
    },
    {
      "cell_type": "markdown",
      "source": [
        "# 6. Logical Operations"
      ],
      "metadata": {
        "id": "kAZpmuewOrgk"
      }
    },
    {
      "cell_type": "code",
      "source": [
        "logical_and = np.logical_and(arr1 > 0, arr1 < 3)\n",
        "logical_and"
      ],
      "metadata": {
        "colab": {
          "base_uri": "https://localhost:8080/"
        },
        "id": "ohVi2PFAOo7-",
        "outputId": "6f0e618d-84fc-46ee-cb23-be90b42f6bab"
      },
      "execution_count": 59,
      "outputs": [
        {
          "output_type": "execute_result",
          "data": {
            "text/plain": [
              "array([False,  True, False])"
            ]
          },
          "metadata": {},
          "execution_count": 59
        }
      ]
    },
    {
      "cell_type": "code",
      "source": [
        "logical_or = np.logical_or(arr1 > 2, arr1 < 1)\n",
        "logical_or"
      ],
      "metadata": {
        "colab": {
          "base_uri": "https://localhost:8080/"
        },
        "id": "lVMCB5ePOpBN",
        "outputId": "263cece5-5638-4d91-c113-35bcd622914d"
      },
      "execution_count": 60,
      "outputs": [
        {
          "output_type": "execute_result",
          "data": {
            "text/plain": [
              "array([ True, False,  True])"
            ]
          },
          "metadata": {},
          "execution_count": 60
        }
      ]
    },
    {
      "cell_type": "code",
      "source": [
        "logical_not = np.logical_not(arr1 > 2)\n",
        "logical_not"
      ],
      "metadata": {
        "colab": {
          "base_uri": "https://localhost:8080/"
        },
        "id": "sioEaKwZOpQA",
        "outputId": "37088906-8c2e-409b-db75-c609b6168915"
      },
      "execution_count": 61,
      "outputs": [
        {
          "output_type": "execute_result",
          "data": {
            "text/plain": [
              "array([ True,  True, False])"
            ]
          },
          "metadata": {},
          "execution_count": 61
        }
      ]
    },
    {
      "cell_type": "code",
      "source": [
        "logical_xor = np.logical_xor(arr1 > 0, arr1 > 1)\n",
        "logical_xor"
      ],
      "metadata": {
        "colab": {
          "base_uri": "https://localhost:8080/"
        },
        "id": "v46r6M7nOpd_",
        "outputId": "6863d249-9c13-4c2e-b495-01f7184b7c13"
      },
      "execution_count": 62,
      "outputs": [
        {
          "output_type": "execute_result",
          "data": {
            "text/plain": [
              "array([False, False, False])"
            ]
          },
          "metadata": {},
          "execution_count": 62
        }
      ]
    },
    {
      "cell_type": "code",
      "source": [
        "is_close = np.isclose(arr1, arr1)\n",
        "is_close"
      ],
      "metadata": {
        "colab": {
          "base_uri": "https://localhost:8080/"
        },
        "id": "KKdzIbVwOilW",
        "outputId": "247e66f7-a703-433b-d4d3-e4d89aaca20d"
      },
      "execution_count": 63,
      "outputs": [
        {
          "output_type": "execute_result",
          "data": {
            "text/plain": [
              "array([ True,  True,  True])"
            ]
          },
          "metadata": {},
          "execution_count": 63
        }
      ]
    },
    {
      "cell_type": "code",
      "source": [
        "array_equal = np.array_equal(arr1, arr1)\n",
        "array_equal"
      ],
      "metadata": {
        "colab": {
          "base_uri": "https://localhost:8080/"
        },
        "id": "icrxE-FAOiqN",
        "outputId": "90b6231e-cadb-4142-9abb-9d4054199af7"
      },
      "execution_count": 64,
      "outputs": [
        {
          "output_type": "execute_result",
          "data": {
            "text/plain": [
              "True"
            ]
          },
          "metadata": {},
          "execution_count": 64
        }
      ]
    },
    {
      "cell_type": "code",
      "source": [
        "# 7. Linear Algebra\n",
        "dot_product = np.dot(arr1, arr1)\n",
        "matrix_mult = np.matmul(multi_dim, multi_dim.T)\n",
        "matrix_inv = np.linalg.inv(np.eye(3))\n",
        "det = np.linalg.det(np.eye(3))\n",
        "eig_values, eig_vectors = np.linalg.eig(np.eye(3))\n",
        "svd = np.linalg.svd(np.eye(3))\n",
        "norm = np.linalg.norm(arr1)\n",
        "solve = np.linalg.solve(np.eye(2), [1, 1])\n",
        "trace = np.trace(np.eye(3))\n"
      ],
      "metadata": {
        "id": "NdPkw_72PNnE"
      },
      "execution_count": null,
      "outputs": []
    },
    {
      "cell_type": "markdown",
      "source": [
        "# 7. Linear Algebra"
      ],
      "metadata": {
        "id": "Ib4xorQDP1Lr"
      }
    },
    {
      "cell_type": "code",
      "source": [
        "dot_product = np.dot(arr1, arr1)\n",
        "dot_product"
      ],
      "metadata": {
        "colab": {
          "base_uri": "https://localhost:8080/"
        },
        "id": "ynKG-VBdPv1b",
        "outputId": "5be96032-8128-441a-b95c-656fdac10d86"
      },
      "execution_count": 65,
      "outputs": [
        {
          "output_type": "execute_result",
          "data": {
            "text/plain": [
              "14"
            ]
          },
          "metadata": {},
          "execution_count": 65
        }
      ]
    },
    {
      "cell_type": "code",
      "source": [
        "matrix_mult = np.matmul(multi_dim, multi_dim.T)\n",
        "matrix_mult"
      ],
      "metadata": {
        "colab": {
          "base_uri": "https://localhost:8080/"
        },
        "id": "ZWZeWeinPv69",
        "outputId": "2d368aae-79d3-438d-fe53-e059d1e51b79"
      },
      "execution_count": 66,
      "outputs": [
        {
          "output_type": "execute_result",
          "data": {
            "text/plain": [
              "array([[ 5, 11],\n",
              "       [11, 25]])"
            ]
          },
          "metadata": {},
          "execution_count": 66
        }
      ]
    },
    {
      "cell_type": "code",
      "source": [
        "matrix_inv = np.linalg.inv(np.eye(3))\n",
        "matrix_inv"
      ],
      "metadata": {
        "colab": {
          "base_uri": "https://localhost:8080/"
        },
        "id": "NfIfU1jkPwAV",
        "outputId": "dd27c382-0824-4317-95b4-2e23979a9a3d"
      },
      "execution_count": 67,
      "outputs": [
        {
          "output_type": "execute_result",
          "data": {
            "text/plain": [
              "array([[1., 0., 0.],\n",
              "       [0., 1., 0.],\n",
              "       [0., 0., 1.]])"
            ]
          },
          "metadata": {},
          "execution_count": 67
        }
      ]
    },
    {
      "cell_type": "code",
      "source": [
        "det = np.linalg.det(np.eye(3))\n",
        "det"
      ],
      "metadata": {
        "colab": {
          "base_uri": "https://localhost:8080/"
        },
        "id": "NWchCPzHQFpo",
        "outputId": "b8d3116c-711c-4581-f4ec-158f885f56ab"
      },
      "execution_count": 68,
      "outputs": [
        {
          "output_type": "execute_result",
          "data": {
            "text/plain": [
              "1.0"
            ]
          },
          "metadata": {},
          "execution_count": 68
        }
      ]
    },
    {
      "cell_type": "code",
      "source": [
        "eig_values, eig_vectors = np.linalg.eig(np.eye(3))\n",
        "eig_values"
      ],
      "metadata": {
        "colab": {
          "base_uri": "https://localhost:8080/"
        },
        "id": "c5kQu9DbQFyE",
        "outputId": "4d0093ea-1541-46df-aa39-d1d2e48f49fd"
      },
      "execution_count": 69,
      "outputs": [
        {
          "output_type": "execute_result",
          "data": {
            "text/plain": [
              "array([1., 1., 1.])"
            ]
          },
          "metadata": {},
          "execution_count": 69
        }
      ]
    },
    {
      "cell_type": "code",
      "source": [
        "eig_vectors"
      ],
      "metadata": {
        "colab": {
          "base_uri": "https://localhost:8080/"
        },
        "id": "VJfhdoUfQF6J",
        "outputId": "799ace11-98f5-4579-e943-c7fff87354ae"
      },
      "execution_count": 70,
      "outputs": [
        {
          "output_type": "execute_result",
          "data": {
            "text/plain": [
              "array([[1., 0., 0.],\n",
              "       [0., 1., 0.],\n",
              "       [0., 0., 1.]])"
            ]
          },
          "metadata": {},
          "execution_count": 70
        }
      ]
    },
    {
      "cell_type": "code",
      "source": [
        "svd = np.linalg.svd(np.eye(3))\n",
        "svd"
      ],
      "metadata": {
        "colab": {
          "base_uri": "https://localhost:8080/"
        },
        "id": "JynpONpmQGAt",
        "outputId": "05b705dc-c938-4294-b23a-05fcf3ed902b"
      },
      "execution_count": 71,
      "outputs": [
        {
          "output_type": "execute_result",
          "data": {
            "text/plain": [
              "SVDResult(U=array([[1., 0., 0.],\n",
              "       [0., 1., 0.],\n",
              "       [0., 0., 1.]]), S=array([1., 1., 1.]), Vh=array([[1., 0., 0.],\n",
              "       [0., 1., 0.],\n",
              "       [0., 0., 1.]]))"
            ]
          },
          "metadata": {},
          "execution_count": 71
        }
      ]
    },
    {
      "cell_type": "code",
      "source": [
        "norm = np.linalg.norm(arr1)\n",
        "norm"
      ],
      "metadata": {
        "colab": {
          "base_uri": "https://localhost:8080/"
        },
        "id": "qNv0FWj-QGG_",
        "outputId": "eb4de7a5-ebcf-460f-96ca-3a84f17ef692"
      },
      "execution_count": 72,
      "outputs": [
        {
          "output_type": "execute_result",
          "data": {
            "text/plain": [
              "3.7416573867739413"
            ]
          },
          "metadata": {},
          "execution_count": 72
        }
      ]
    },
    {
      "cell_type": "code",
      "source": [
        "solve = np.linalg.solve(np.eye(2), [1, 1])\n",
        "solve"
      ],
      "metadata": {
        "colab": {
          "base_uri": "https://localhost:8080/"
        },
        "id": "-_CdrnJfQ2bX",
        "outputId": "d76bd7e4-09e0-41a6-8aa8-b959d6301240"
      },
      "execution_count": 73,
      "outputs": [
        {
          "output_type": "execute_result",
          "data": {
            "text/plain": [
              "array([1., 1.])"
            ]
          },
          "metadata": {},
          "execution_count": 73
        }
      ]
    },
    {
      "cell_type": "code",
      "source": [
        "trace = np.trace(np.eye(3))\n",
        "trace"
      ],
      "metadata": {
        "colab": {
          "base_uri": "https://localhost:8080/"
        },
        "id": "9hAZM4eCQ2ff",
        "outputId": "5c6e540a-d95f-46ee-a189-388628b96f25"
      },
      "execution_count": 74,
      "outputs": [
        {
          "output_type": "execute_result",
          "data": {
            "text/plain": [
              "3.0"
            ]
          },
          "metadata": {},
          "execution_count": 74
        }
      ]
    },
    {
      "cell_type": "markdown",
      "source": [
        "# 8. Broadcasting and Vectorization"
      ],
      "metadata": {
        "id": "MKiyn6e8RZEq"
      }
    },
    {
      "cell_type": "code",
      "source": [
        "broadcast_add = arr1 + 2                      # Broadcasting\n",
        "broadcast_add"
      ],
      "metadata": {
        "colab": {
          "base_uri": "https://localhost:8080/"
        },
        "id": "-JvnNuF0RQVS",
        "outputId": "154b08fb-8a46-416b-93ae-83b4edc18506"
      },
      "execution_count": 75,
      "outputs": [
        {
          "output_type": "execute_result",
          "data": {
            "text/plain": [
              "array([1, 4, 5])"
            ]
          },
          "metadata": {},
          "execution_count": 75
        }
      ]
    },
    {
      "cell_type": "code",
      "source": [
        "vectorized = np.vectorize(lambda x: x ** 2)(arr1)  # Vectorize\n",
        "vectorized"
      ],
      "metadata": {
        "colab": {
          "base_uri": "https://localhost:8080/"
        },
        "id": "A095j4njRQa2",
        "outputId": "783e7d57-3945-41f8-d732-729bd57db677"
      },
      "execution_count": 76,
      "outputs": [
        {
          "output_type": "execute_result",
          "data": {
            "text/plain": [
              "array([1, 4, 9])"
            ]
          },
          "metadata": {},
          "execution_count": 76
        }
      ]
    },
    {
      "cell_type": "markdown",
      "source": [
        "# 9. Sorting and Searching"
      ],
      "metadata": {
        "id": "_t4POEHnRo32"
      }
    },
    {
      "cell_type": "code",
      "source": [
        "sorted_array = np.sort(arr1)\n",
        "sorted_array"
      ],
      "metadata": {
        "colab": {
          "base_uri": "https://localhost:8080/"
        },
        "id": "BgQnwnbPRi4f",
        "outputId": "c639f6c7-447a-4b24-afee-ec785d5855d7"
      },
      "execution_count": 77,
      "outputs": [
        {
          "output_type": "execute_result",
          "data": {
            "text/plain": [
              "array([-1,  2,  3])"
            ]
          },
          "metadata": {},
          "execution_count": 77
        }
      ]
    },
    {
      "cell_type": "code",
      "source": [
        "argsorted = np.argsort(arr1)\n",
        "argsorted"
      ],
      "metadata": {
        "colab": {
          "base_uri": "https://localhost:8080/"
        },
        "id": "tGA94H0IRjAi",
        "outputId": "518eb2df-973a-4d8f-edd9-63f1a5f25a4c"
      },
      "execution_count": 78,
      "outputs": [
        {
          "output_type": "execute_result",
          "data": {
            "text/plain": [
              "array([0, 1, 2])"
            ]
          },
          "metadata": {},
          "execution_count": 78
        }
      ]
    },
    {
      "cell_type": "code",
      "source": [
        "argmin = np.argmin(arr1)\n",
        "argmin"
      ],
      "metadata": {
        "colab": {
          "base_uri": "https://localhost:8080/"
        },
        "id": "K4Wh6pOzQGRz",
        "outputId": "e414c4f5-3937-4eef-f1db-977193ab2a5e"
      },
      "execution_count": 79,
      "outputs": [
        {
          "output_type": "execute_result",
          "data": {
            "text/plain": [
              "0"
            ]
          },
          "metadata": {},
          "execution_count": 79
        }
      ]
    },
    {
      "cell_type": "code",
      "source": [
        "argmax = np.argmax(arr1)\n",
        "argmax"
      ],
      "metadata": {
        "colab": {
          "base_uri": "https://localhost:8080/"
        },
        "id": "bSKtCeacR41S",
        "outputId": "01d897eb-8aae-443d-d868-ef8d576f2951"
      },
      "execution_count": 80,
      "outputs": [
        {
          "output_type": "execute_result",
          "data": {
            "text/plain": [
              "2"
            ]
          },
          "metadata": {},
          "execution_count": 80
        }
      ]
    },
    {
      "cell_type": "code",
      "source": [
        "search_sorted = np.searchsorted(arr1, 1)\n",
        "search_sorted"
      ],
      "metadata": {
        "colab": {
          "base_uri": "https://localhost:8080/"
        },
        "id": "inMnmLWwR48t",
        "outputId": "25f590d8-d9ac-4b06-9ef3-4dea7fc21b14"
      },
      "execution_count": 81,
      "outputs": [
        {
          "output_type": "execute_result",
          "data": {
            "text/plain": [
              "1"
            ]
          },
          "metadata": {},
          "execution_count": 81
        }
      ]
    },
    {
      "cell_type": "markdown",
      "source": [
        "# 10. Random"
      ],
      "metadata": {
        "id": "jbvsjFgkSPP2"
      }
    },
    {
      "cell_type": "code",
      "source": [
        "np.random.seed(42)                            # Set seed"
      ],
      "metadata": {
        "id": "aipjczUbSH5a"
      },
      "execution_count": 82,
      "outputs": []
    },
    {
      "cell_type": "code",
      "source": [
        "rand_uniform = np.random.rand(3)\n",
        "rand_uniform"
      ],
      "metadata": {
        "colab": {
          "base_uri": "https://localhost:8080/"
        },
        "id": "vS-nfXf4SN7P",
        "outputId": "0aa2e43b-ef25-42ae-914d-34d9066fc659"
      },
      "execution_count": 83,
      "outputs": [
        {
          "output_type": "execute_result",
          "data": {
            "text/plain": [
              "array([0.37454012, 0.95071431, 0.73199394])"
            ]
          },
          "metadata": {},
          "execution_count": 83
        }
      ]
    },
    {
      "cell_type": "code",
      "source": [
        "rand_normal = np.random.randn(3)\n",
        "rand_normal"
      ],
      "metadata": {
        "colab": {
          "base_uri": "https://localhost:8080/"
        },
        "id": "PfrWV9dlSOAZ",
        "outputId": "a1f00b85-241d-4b61-d0e0-7028fb1e44c6"
      },
      "execution_count": 84,
      "outputs": [
        {
          "output_type": "execute_result",
          "data": {
            "text/plain": [
              "array([-1.11188012,  0.31890218,  0.27904129])"
            ]
          },
          "metadata": {},
          "execution_count": 84
        }
      ]
    },
    {
      "cell_type": "code",
      "source": [
        "rand_int = np.random.randint(0, 10, 3)\n",
        "rand_int"
      ],
      "metadata": {
        "colab": {
          "base_uri": "https://localhost:8080/"
        },
        "id": "NpyI9T9DSIKM",
        "outputId": "f8a9b570-1e1d-4938-a625-d0ee71c38435"
      },
      "execution_count": 85,
      "outputs": [
        {
          "output_type": "execute_result",
          "data": {
            "text/plain": [
              "array([7, 2, 5])"
            ]
          },
          "metadata": {},
          "execution_count": 85
        }
      ]
    },
    {
      "cell_type": "code",
      "source": [
        "permutation = np.random.permutation(arr1)\n",
        "permutation"
      ],
      "metadata": {
        "colab": {
          "base_uri": "https://localhost:8080/"
        },
        "id": "oZfEoSIuSfQE",
        "outputId": "0762ad85-f065-4ed4-8763-71e057b5853d"
      },
      "execution_count": 86,
      "outputs": [
        {
          "output_type": "execute_result",
          "data": {
            "text/plain": [
              "array([ 3,  2, -1])"
            ]
          },
          "metadata": {},
          "execution_count": 86
        }
      ]
    },
    {
      "cell_type": "code",
      "source": [
        "np.random.shuffle(arr1)\n"
      ],
      "metadata": {
        "id": "ZKE1gclGSfVn"
      },
      "execution_count": 87,
      "outputs": []
    },
    {
      "cell_type": "markdown",
      "source": [
        "# 11. File I/O"
      ],
      "metadata": {
        "id": "RiBdXZdgS7W8"
      }
    },
    {
      "cell_type": "code",
      "source": [
        "np.save('array.npy', arr1)                    # Save binary"
      ],
      "metadata": {
        "id": "J6ibkz6US1KC"
      },
      "execution_count": 88,
      "outputs": []
    },
    {
      "cell_type": "code",
      "source": [
        "loaded_array = np.load('array.npy')           # Load binary\n",
        "loaded_array"
      ],
      "metadata": {
        "colab": {
          "base_uri": "https://localhost:8080/"
        },
        "id": "VpkZZRIVS1xS",
        "outputId": "a23705ea-2040-4101-b916-7e7c58839642"
      },
      "execution_count": 89,
      "outputs": [
        {
          "output_type": "execute_result",
          "data": {
            "text/plain": [
              "array([-1,  3,  2])"
            ]
          },
          "metadata": {},
          "execution_count": 89
        }
      ]
    },
    {
      "cell_type": "code",
      "source": [
        "np.savetxt('array.txt', arr1)                 # Save text"
      ],
      "metadata": {
        "id": "3Km3hhE8R5Pc"
      },
      "execution_count": 90,
      "outputs": []
    },
    {
      "cell_type": "code",
      "source": [
        "loaded_text = np.loadtxt('array.txt')         # Load text\n",
        "loaded_text"
      ],
      "metadata": {
        "colab": {
          "base_uri": "https://localhost:8080/"
        },
        "id": "VFaGYSDsTKNB",
        "outputId": "7907ad68-1e5c-4a35-9160-2f47a954975d"
      },
      "execution_count": 91,
      "outputs": [
        {
          "output_type": "execute_result",
          "data": {
            "text/plain": [
              "array([-1.,  3.,  2.])"
            ]
          },
          "metadata": {},
          "execution_count": 91
        }
      ]
    },
    {
      "cell_type": "code",
      "source": [
        "gen_txt = np.genfromtxt('array.txt')          # Load with NaN handling\n",
        "gen_txt"
      ],
      "metadata": {
        "colab": {
          "base_uri": "https://localhost:8080/"
        },
        "id": "lsbhr82vTKUB",
        "outputId": "b7e01ca7-d8b3-460c-b2dc-d2011d388f39"
      },
      "execution_count": 92,
      "outputs": [
        {
          "output_type": "execute_result",
          "data": {
            "text/plain": [
              "array([-1.,  3.,  2.])"
            ]
          },
          "metadata": {},
          "execution_count": 92
        }
      ]
    },
    {
      "cell_type": "code",
      "source": [
        "from_file = np.fromfile('array.npy')          # Load from binary file\n",
        "from_file"
      ],
      "metadata": {
        "colab": {
          "base_uri": "https://localhost:8080/"
        },
        "id": "ibaUU1DcTSPt",
        "outputId": "60e36f25-702a-4616-8c94-827e34aa9109"
      },
      "execution_count": 93,
      "outputs": [
        {
          "output_type": "execute_result",
          "data": {
            "text/plain": [
              "array([1.87585069e-309, 1.17119999e+171, 5.93271341e-037, 8.44740097e+252,\n",
              "       2.65141232e+180, 9.92152605e+247, 2.16209968e+233, 2.34519039e-110,\n",
              "       6.01347003e-154, 6.01347002e-154, 6.01347002e-154, 6.01347002e-154,\n",
              "       6.01347002e-154, 6.01347002e-154, 6.01347002e-154, 6.55490914e-260,\n",
              "                   nan, 1.48219694e-323, 9.88131292e-324])"
            ]
          },
          "metadata": {},
          "execution_count": 93
        }
      ]
    },
    {
      "cell_type": "code",
      "source": [],
      "metadata": {
        "id": "3kl1eeqVH_e5"
      },
      "execution_count": null,
      "outputs": []
    }
  ]
}